{
 "cells": [
  {
   "cell_type": "markdown",
   "id": "1efb095f-3f74-49ec-802f-0c4c038cd19c",
   "metadata": {},
   "source": [
    "Part 1 – **Data Cleaning**"
   ]
  },
  {
   "cell_type": "code",
   "execution_count": 2,
   "id": "cf5e6848-355f-4c98-97e9-684dc5b640df",
   "metadata": {},
   "outputs": [],
   "source": [
    "import numpy as np\n",
    "import pandas as pd \n",
    "import seaborn as sns\n",
    "import matplotlib.pyplot as plt\n",
    "from sklearn.preprocessing import MinMaxScaler , LabelEncoder\n",
    "import category_encoders as ce"
   ]
  },
  {
   "cell_type": "code",
   "execution_count": 3,
   "id": "d5b3d265-aaef-4ad5-be80-8d625eddf800",
   "metadata": {},
   "outputs": [
    {
     "data": {
      "text/html": [
       "<div>\n",
       "<style scoped>\n",
       "    .dataframe tbody tr th:only-of-type {\n",
       "        vertical-align: middle;\n",
       "    }\n",
       "\n",
       "    .dataframe tbody tr th {\n",
       "        vertical-align: top;\n",
       "    }\n",
       "\n",
       "    .dataframe thead th {\n",
       "        text-align: right;\n",
       "    }\n",
       "</style>\n",
       "<table border=\"1\" class=\"dataframe\">\n",
       "  <thead>\n",
       "    <tr style=\"text-align: right;\">\n",
       "      <th></th>\n",
       "      <th>fNAME</th>\n",
       "      <th>lNAME</th>\n",
       "      <th>Age</th>\n",
       "      <th>gender</th>\n",
       "      <th>country</th>\n",
       "      <th>residence</th>\n",
       "      <th>entryEXAM</th>\n",
       "      <th>prevEducation</th>\n",
       "      <th>studyHOURS</th>\n",
       "      <th>Python</th>\n",
       "      <th>DB</th>\n",
       "    </tr>\n",
       "  </thead>\n",
       "  <tbody>\n",
       "    <tr>\n",
       "      <th>0</th>\n",
       "      <td>Christina</td>\n",
       "      <td>Binger</td>\n",
       "      <td>44</td>\n",
       "      <td>Female</td>\n",
       "      <td>Norway</td>\n",
       "      <td>Private</td>\n",
       "      <td>72</td>\n",
       "      <td>Masters</td>\n",
       "      <td>158</td>\n",
       "      <td>59.0</td>\n",
       "      <td>55</td>\n",
       "    </tr>\n",
       "    <tr>\n",
       "      <th>1</th>\n",
       "      <td>Alex</td>\n",
       "      <td>Walekhwa</td>\n",
       "      <td>60</td>\n",
       "      <td>M</td>\n",
       "      <td>Kenya</td>\n",
       "      <td>Private</td>\n",
       "      <td>79</td>\n",
       "      <td>Diploma</td>\n",
       "      <td>150</td>\n",
       "      <td>60.0</td>\n",
       "      <td>75</td>\n",
       "    </tr>\n",
       "    <tr>\n",
       "      <th>2</th>\n",
       "      <td>Philip</td>\n",
       "      <td>Leo</td>\n",
       "      <td>25</td>\n",
       "      <td>Male</td>\n",
       "      <td>Uganda</td>\n",
       "      <td>Sognsvann</td>\n",
       "      <td>55</td>\n",
       "      <td>HighSchool</td>\n",
       "      <td>130</td>\n",
       "      <td>74.0</td>\n",
       "      <td>50</td>\n",
       "    </tr>\n",
       "    <tr>\n",
       "      <th>3</th>\n",
       "      <td>Shoni</td>\n",
       "      <td>Hlongwane</td>\n",
       "      <td>22</td>\n",
       "      <td>F</td>\n",
       "      <td>Rsa</td>\n",
       "      <td>Sognsvann</td>\n",
       "      <td>40</td>\n",
       "      <td>High School</td>\n",
       "      <td>120</td>\n",
       "      <td>NaN</td>\n",
       "      <td>44</td>\n",
       "    </tr>\n",
       "    <tr>\n",
       "      <th>4</th>\n",
       "      <td>Maria</td>\n",
       "      <td>Kedibone</td>\n",
       "      <td>23</td>\n",
       "      <td>Female</td>\n",
       "      <td>South Africa</td>\n",
       "      <td>Sognsvann</td>\n",
       "      <td>65</td>\n",
       "      <td>High School</td>\n",
       "      <td>122</td>\n",
       "      <td>91.0</td>\n",
       "      <td>80</td>\n",
       "    </tr>\n",
       "  </tbody>\n",
       "</table>\n",
       "</div>"
      ],
      "text/plain": [
       "       fNAME      lNAME  Age  gender       country  residence  entryEXAM  \\\n",
       "0  Christina     Binger   44  Female        Norway    Private         72   \n",
       "1       Alex   Walekhwa   60       M         Kenya    Private         79   \n",
       "2     Philip        Leo   25    Male        Uganda  Sognsvann         55   \n",
       "3      Shoni  Hlongwane   22       F           Rsa  Sognsvann         40   \n",
       "4      Maria   Kedibone   23  Female  South Africa  Sognsvann         65   \n",
       "\n",
       "  prevEducation  studyHOURS  Python  DB  \n",
       "0       Masters         158    59.0  55  \n",
       "1       Diploma         150    60.0  75  \n",
       "2    HighSchool         130    74.0  50  \n",
       "3   High School         120     NaN  44  \n",
       "4   High School         122    91.0  80  "
      ]
     },
     "execution_count": 3,
     "metadata": {},
     "output_type": "execute_result"
    }
   ],
   "source": [
    "df = pd.read_csv(\"Downloads/bi.csv\", encoding = \"cp1256\")\n",
    "df.head()"
   ]
  },
  {
   "cell_type": "markdown",
   "id": "b9558b15-0d60-4faa-aa42-7611666c1acf",
   "metadata": {},
   "source": [
    "1 - Check dataset structure"
   ]
  },
  {
   "cell_type": "code",
   "execution_count": 5,
   "id": "1e31a301-2666-433d-895e-5e3ebd76d698",
   "metadata": {},
   "outputs": [
    {
     "data": {
      "text/plain": [
       "(77, 11)"
      ]
     },
     "execution_count": 5,
     "metadata": {},
     "output_type": "execute_result"
    }
   ],
   "source": [
    "df.shape"
   ]
  },
  {
   "cell_type": "code",
   "execution_count": 6,
   "id": "8dff4140-1db0-4596-bde2-7d2374b54fd4",
   "metadata": {},
   "outputs": [
    {
     "name": "stdout",
     "output_type": "stream",
     "text": [
      "<class 'pandas.core.frame.DataFrame'>\n",
      "RangeIndex: 77 entries, 0 to 76\n",
      "Data columns (total 11 columns):\n",
      " #   Column         Non-Null Count  Dtype  \n",
      "---  ------         --------------  -----  \n",
      " 0   fNAME          77 non-null     object \n",
      " 1   lNAME          77 non-null     object \n",
      " 2   Age            77 non-null     int64  \n",
      " 3   gender         77 non-null     object \n",
      " 4   country        77 non-null     object \n",
      " 5   residence      77 non-null     object \n",
      " 6   entryEXAM      77 non-null     int64  \n",
      " 7   prevEducation  77 non-null     object \n",
      " 8   studyHOURS     77 non-null     int64  \n",
      " 9   Python         75 non-null     float64\n",
      " 10  DB             77 non-null     int64  \n",
      "dtypes: float64(1), int64(4), object(6)\n",
      "memory usage: 6.7+ KB\n"
     ]
    }
   ],
   "source": [
    "df.info()"
   ]
  },
  {
   "cell_type": "markdown",
   "id": "2ad372cf-49a1-482e-ade1-5e93c886e3f5",
   "metadata": {},
   "source": [
    "Question: Which columns should be categorical and which should be numerical?"
   ]
  },
  {
   "cell_type": "code",
   "execution_count": 8,
   "id": "6e707bad-3483-4d1a-897e-8490fa6b25f7",
   "metadata": {},
   "outputs": [
    {
     "name": "stdout",
     "output_type": "stream",
     "text": [
      "Categorical columns are : ['fNAME', 'lNAME', 'gender', 'country', 'residence', 'prevEducation'] \n",
      "Numerical columns are : ['Age', 'entryEXAM', 'studyHOURS', 'Python', 'DB']\n"
     ]
    }
   ],
   "source": [
    "Categorical_cols = df.select_dtypes(include=[\"object\" , \"category\"]).columns.tolist()\n",
    "Numerical_cols = df.select_dtypes(include=[\"int64\" , \"float64\"]).columns.tolist()\n",
    "\n",
    "print(f\"Categorical columns are : {Categorical_cols} \\nNumerical columns are : {Numerical_cols}\")"
   ]
  },
  {
   "cell_type": "markdown",
   "id": "a7741c82-d390-4f6e-94b7-2b58a634b385",
   "metadata": {},
   "source": [
    "2 - Detect inconsistent categories"
   ]
  },
  {
   "cell_type": "code",
   "execution_count": 10,
   "id": "bc14b204-2fbc-43e9-8834-cd60be9d0893",
   "metadata": {},
   "outputs": [
    {
     "data": {
      "text/plain": [
       "array(['Female', 'M', 'Male', 'F', 'female', 'male'], dtype=object)"
      ]
     },
     "execution_count": 10,
     "metadata": {},
     "output_type": "execute_result"
    }
   ],
   "source": [
    "df['gender'].unique()"
   ]
  },
  {
   "cell_type": "code",
   "execution_count": 11,
   "id": "efb77123-194e-4a67-8af1-079535c6daa9",
   "metadata": {},
   "outputs": [
    {
     "data": {
      "text/plain": [
       "array(['F', 'M'], dtype=object)"
      ]
     },
     "execution_count": 11,
     "metadata": {},
     "output_type": "execute_result"
    }
   ],
   "source": [
    "df['gender'] = df['gender'].str.lower() \n",
    "df['gender'] = df['gender'].replace(['female','f'],'F')\n",
    "df['gender'] = df['gender'].replace(['male','m'],'M')\n",
    "df['gender'].unique()"
   ]
  },
  {
   "cell_type": "code",
   "execution_count": 12,
   "id": "d92a52ac-a538-47f1-8cbb-224224ba3f35",
   "metadata": {},
   "outputs": [
    {
     "data": {
      "text/plain": [
       "array(['Norway', 'Kenya', 'Uganda', 'Rsa', 'South Africa', 'Norge',\n",
       "       'norway', 'Denmark', 'Netherlands', 'Italy', 'Spain', 'UK',\n",
       "       'Somali', 'Nigeria', 'Germany', 'France'], dtype=object)"
      ]
     },
     "execution_count": 12,
     "metadata": {},
     "output_type": "execute_result"
    }
   ],
   "source": [
    "df['country'].unique()"
   ]
  },
  {
   "cell_type": "code",
   "execution_count": 13,
   "id": "e7a0e0ed-76d7-4fb2-baf9-f5f9b1effceb",
   "metadata": {},
   "outputs": [
    {
     "data": {
      "text/plain": [
       "array(['Norway', 'Kenya', 'Uganda', 'Rsa', 'South Africa', 'Norge',\n",
       "       'Denmark', 'Netherlands', 'Italy', 'Spain', 'UK', 'Somali',\n",
       "       'Nigeria', 'Germany', 'France'], dtype=object)"
      ]
     },
     "execution_count": 13,
     "metadata": {},
     "output_type": "execute_result"
    }
   ],
   "source": [
    "df['country'] = df['country'].replace('norway' , 'Norway')\n",
    "df['country'].unique()"
   ]
  },
  {
   "cell_type": "code",
   "execution_count": 14,
   "id": "d20ef57f-e561-425b-87de-6b7096b70013",
   "metadata": {},
   "outputs": [
    {
     "data": {
      "text/plain": [
       "array(['Masters', 'Diploma', 'HighSchool', 'High School', 'Bachelors',\n",
       "       'Barrrchelors', 'diploma', 'DIPLOMA', 'Diplomaaa', 'Doctorate'],\n",
       "      dtype=object)"
      ]
     },
     "execution_count": 14,
     "metadata": {},
     "output_type": "execute_result"
    }
   ],
   "source": [
    "df['prevEducation'].unique()"
   ]
  },
  {
   "cell_type": "code",
   "execution_count": 15,
   "id": "4b29d99d-d865-4e8a-ab96-b545407f3dba",
   "metadata": {},
   "outputs": [
    {
     "data": {
      "text/plain": [
       "array(['Masters', 'Diploma', 'High School', 'Bachelors', 'Doctorate'],\n",
       "      dtype=object)"
      ]
     },
     "execution_count": 15,
     "metadata": {},
     "output_type": "execute_result"
    }
   ],
   "source": [
    "df['prevEducation'] = df['prevEducation'].replace(['diploma','DIPLOMA','Diplomaaa'] , 'Diploma')\n",
    "df['prevEducation'] = df['prevEducation'].replace('HighSchool' , 'High School')\n",
    "df['prevEducation'] = df['prevEducation'].replace('Barrrchelors' , 'Bachelors')\n",
    "df['prevEducation'].unique()"
   ]
  },
  {
   "cell_type": "markdown",
   "id": "1aa0b40d-ee98-4600-8139-f8bf31076537",
   "metadata": {},
   "source": [
    "3 - Handle duplicates"
   ]
  },
  {
   "cell_type": "code",
   "execution_count": 17,
   "id": "3bbd4c1b-1ccf-4f36-830b-d561c7ce1950",
   "metadata": {},
   "outputs": [
    {
     "data": {
      "text/plain": [
       "0"
      ]
     },
     "execution_count": 17,
     "metadata": {},
     "output_type": "execute_result"
    }
   ],
   "source": [
    "df.duplicated().sum()"
   ]
  },
  {
   "cell_type": "markdown",
   "id": "acfbbb1c-6b7e-400d-9a2e-2a3c4aaef695",
   "metadata": {},
   "source": [
    "What inconsistencies you found and how you fixed them ?\n",
    "\n",
    "1 - Gender column\n",
    "\n",
    "Issue: Values appeared in mixed formats like \"Male\", \"male\", \"M\", and \"Female\", \"female\", \"F\".\n",
    "\n",
    "Fix: Converted all values to lowercase using .str.lower(), then standardized using .replace() to keep only \"M\" and \"F\".\n",
    "\n",
    "2 - Country column\n",
    "\n",
    "Issue: Country names had inconsistent cases (\"norway\", \"Norway\").\n",
    "\n",
    "Fix: Standardized using .replace() to unify values \"norway\" → \"Norway\" .\n",
    "\n",
    "3 - prevEducation column\n",
    "\n",
    "Issue: typos and inconsistent formats such as \"Barrrchelors\" vs \"Bachelor\", \"HighSchool\" vs \"High School\", and [\"diploma\", \"DIPLOMA\", \"Diplomaaa\"] vs \"Diploma\".\n",
    "\n",
    "Fix: Corrected misspelled entries manually using .replace().\n",
    "\n",
    "- Duplicates\n",
    "\n",
    "No rows were completely duplicated."
   ]
  },
  {
   "cell_type": "markdown",
   "id": "e5b5432a-ef06-4d84-9560-b3f6a687ee91",
   "metadata": {},
   "source": [
    "Part 2 – **Missing Data**"
   ]
  },
  {
   "cell_type": "markdown",
   "id": "33ff590c-7fe6-4ba9-b026-ba61a8c0a662",
   "metadata": {},
   "source": [
    "1 - Identify missing values"
   ]
  },
  {
   "cell_type": "code",
   "execution_count": 21,
   "id": "7597cc51-f23f-4ce9-8217-250f7277ad31",
   "metadata": {},
   "outputs": [
    {
     "data": {
      "text/plain": [
       "fNAME            0\n",
       "lNAME            0\n",
       "Age              0\n",
       "gender           0\n",
       "country          0\n",
       "residence        0\n",
       "entryEXAM        0\n",
       "prevEducation    0\n",
       "studyHOURS       0\n",
       "Python           2\n",
       "DB               0\n",
       "dtype: int64"
      ]
     },
     "execution_count": 21,
     "metadata": {},
     "output_type": "execute_result"
    }
   ],
   "source": [
    "df.isnull().sum()"
   ]
  },
  {
   "cell_type": "markdown",
   "id": "cd488834-2ee5-4282-9e11-dd29ec822db8",
   "metadata": {},
   "source": [
    "Question: Which columns are most affected by missing values?"
   ]
  },
  {
   "cell_type": "markdown",
   "id": "273e072d-b2a4-497e-8ac3-a6e5807dbd57",
   "metadata": {},
   "source": [
    "-- Python column have 2 missing values "
   ]
  },
  {
   "cell_type": "markdown",
   "id": "076e9b18-ae74-45bf-ad6d-5def5fbe418c",
   "metadata": {},
   "source": [
    "2 - Impute missing values"
   ]
  },
  {
   "cell_type": "markdown",
   "id": "885266fe-0591-4199-a0f2-42152b531e06",
   "metadata": {},
   "source": [
    "Option 1: Fill with Mean"
   ]
  },
  {
   "cell_type": "code",
   "execution_count": 26,
   "id": "879009d0-d961-418a-b598-0e87409995c3",
   "metadata": {},
   "outputs": [
    {
     "name": "stderr",
     "output_type": "stream",
     "text": [
      "C:\\Users\\DELL\\AppData\\Local\\Temp\\ipykernel_23692\\915564648.py:2: FutureWarning: A value is trying to be set on a copy of a DataFrame or Series through chained assignment using an inplace method.\n",
      "The behavior will change in pandas 3.0. This inplace method will never work because the intermediate object on which we are setting values always behaves as a copy.\n",
      "\n",
      "For example, when doing 'df[col].method(value, inplace=True)', try using 'df.method({col: value}, inplace=True)' or df[col] = df[col].method(value) instead, to perform the operation inplace on the original object.\n",
      "\n",
      "\n",
      "  df_mean[\"Python\"].fillna(df_mean[\"Python\"].mean(), inplace=True)\n"
     ]
    }
   ],
   "source": [
    "df_mean = df.copy()\n",
    "df_mean[\"Python\"].fillna(df_mean[\"Python\"].mean(), inplace=True)"
   ]
  },
  {
   "cell_type": "code",
   "execution_count": 27,
   "id": "2f24241e-c96c-496b-be4a-1ccd23198b96",
   "metadata": {},
   "outputs": [
    {
     "data": {
      "text/html": [
       "<div>\n",
       "<style scoped>\n",
       "    .dataframe tbody tr th:only-of-type {\n",
       "        vertical-align: middle;\n",
       "    }\n",
       "\n",
       "    .dataframe tbody tr th {\n",
       "        vertical-align: top;\n",
       "    }\n",
       "\n",
       "    .dataframe thead th {\n",
       "        text-align: right;\n",
       "    }\n",
       "</style>\n",
       "<table border=\"1\" class=\"dataframe\">\n",
       "  <thead>\n",
       "    <tr style=\"text-align: right;\">\n",
       "      <th></th>\n",
       "      <th>fNAME</th>\n",
       "      <th>lNAME</th>\n",
       "      <th>Age</th>\n",
       "      <th>gender</th>\n",
       "      <th>country</th>\n",
       "      <th>residence</th>\n",
       "      <th>entryEXAM</th>\n",
       "      <th>prevEducation</th>\n",
       "      <th>studyHOURS</th>\n",
       "      <th>Python</th>\n",
       "      <th>DB</th>\n",
       "    </tr>\n",
       "  </thead>\n",
       "  <tbody>\n",
       "    <tr>\n",
       "      <th>0</th>\n",
       "      <td>Christina</td>\n",
       "      <td>Binger</td>\n",
       "      <td>44</td>\n",
       "      <td>F</td>\n",
       "      <td>Norway</td>\n",
       "      <td>Private</td>\n",
       "      <td>72</td>\n",
       "      <td>Masters</td>\n",
       "      <td>158</td>\n",
       "      <td>59.000000</td>\n",
       "      <td>55</td>\n",
       "    </tr>\n",
       "    <tr>\n",
       "      <th>1</th>\n",
       "      <td>Alex</td>\n",
       "      <td>Walekhwa</td>\n",
       "      <td>60</td>\n",
       "      <td>M</td>\n",
       "      <td>Kenya</td>\n",
       "      <td>Private</td>\n",
       "      <td>79</td>\n",
       "      <td>Diploma</td>\n",
       "      <td>150</td>\n",
       "      <td>60.000000</td>\n",
       "      <td>75</td>\n",
       "    </tr>\n",
       "    <tr>\n",
       "      <th>2</th>\n",
       "      <td>Philip</td>\n",
       "      <td>Leo</td>\n",
       "      <td>25</td>\n",
       "      <td>M</td>\n",
       "      <td>Uganda</td>\n",
       "      <td>Sognsvann</td>\n",
       "      <td>55</td>\n",
       "      <td>High School</td>\n",
       "      <td>130</td>\n",
       "      <td>74.000000</td>\n",
       "      <td>50</td>\n",
       "    </tr>\n",
       "    <tr>\n",
       "      <th>3</th>\n",
       "      <td>Shoni</td>\n",
       "      <td>Hlongwane</td>\n",
       "      <td>22</td>\n",
       "      <td>F</td>\n",
       "      <td>Rsa</td>\n",
       "      <td>Sognsvann</td>\n",
       "      <td>40</td>\n",
       "      <td>High School</td>\n",
       "      <td>120</td>\n",
       "      <td>75.853333</td>\n",
       "      <td>44</td>\n",
       "    </tr>\n",
       "    <tr>\n",
       "      <th>4</th>\n",
       "      <td>Maria</td>\n",
       "      <td>Kedibone</td>\n",
       "      <td>23</td>\n",
       "      <td>F</td>\n",
       "      <td>South Africa</td>\n",
       "      <td>Sognsvann</td>\n",
       "      <td>65</td>\n",
       "      <td>High School</td>\n",
       "      <td>122</td>\n",
       "      <td>91.000000</td>\n",
       "      <td>80</td>\n",
       "    </tr>\n",
       "  </tbody>\n",
       "</table>\n",
       "</div>"
      ],
      "text/plain": [
       "       fNAME      lNAME  Age gender       country  residence  entryEXAM  \\\n",
       "0  Christina     Binger   44      F        Norway    Private         72   \n",
       "1       Alex   Walekhwa   60      M         Kenya    Private         79   \n",
       "2     Philip        Leo   25      M        Uganda  Sognsvann         55   \n",
       "3      Shoni  Hlongwane   22      F           Rsa  Sognsvann         40   \n",
       "4      Maria   Kedibone   23      F  South Africa  Sognsvann         65   \n",
       "\n",
       "  prevEducation  studyHOURS     Python  DB  \n",
       "0       Masters         158  59.000000  55  \n",
       "1       Diploma         150  60.000000  75  \n",
       "2   High School         130  74.000000  50  \n",
       "3   High School         120  75.853333  44  \n",
       "4   High School         122  91.000000  80  "
      ]
     },
     "execution_count": 27,
     "metadata": {},
     "output_type": "execute_result"
    }
   ],
   "source": [
    "df_mean.head()"
   ]
  },
  {
   "cell_type": "markdown",
   "id": "0f9e5673-3a8a-413c-9f23-b5b429ee8a63",
   "metadata": {},
   "source": [
    "Option 2: Fill with Median"
   ]
  },
  {
   "cell_type": "code",
   "execution_count": 29,
   "id": "9c0c0d99-c8b0-4bbc-9535-4cb7f3b31e2c",
   "metadata": {},
   "outputs": [
    {
     "name": "stderr",
     "output_type": "stream",
     "text": [
      "C:\\Users\\DELL\\AppData\\Local\\Temp\\ipykernel_23692\\2503032827.py:2: FutureWarning: A value is trying to be set on a copy of a DataFrame or Series through chained assignment using an inplace method.\n",
      "The behavior will change in pandas 3.0. This inplace method will never work because the intermediate object on which we are setting values always behaves as a copy.\n",
      "\n",
      "For example, when doing 'df[col].method(value, inplace=True)', try using 'df.method({col: value}, inplace=True)' or df[col] = df[col].method(value) instead, to perform the operation inplace on the original object.\n",
      "\n",
      "\n",
      "  df_median[\"Python\"].fillna(df_median[\"Python\"].median(), inplace=True)\n"
     ]
    }
   ],
   "source": [
    "df_median = df.copy()\n",
    "df_median[\"Python\"].fillna(df_median[\"Python\"].median(), inplace=True)"
   ]
  },
  {
   "cell_type": "code",
   "execution_count": 30,
   "id": "930dc76f-0f92-4aa4-a078-953559403a2d",
   "metadata": {},
   "outputs": [
    {
     "data": {
      "text/html": [
       "<div>\n",
       "<style scoped>\n",
       "    .dataframe tbody tr th:only-of-type {\n",
       "        vertical-align: middle;\n",
       "    }\n",
       "\n",
       "    .dataframe tbody tr th {\n",
       "        vertical-align: top;\n",
       "    }\n",
       "\n",
       "    .dataframe thead th {\n",
       "        text-align: right;\n",
       "    }\n",
       "</style>\n",
       "<table border=\"1\" class=\"dataframe\">\n",
       "  <thead>\n",
       "    <tr style=\"text-align: right;\">\n",
       "      <th></th>\n",
       "      <th>fNAME</th>\n",
       "      <th>lNAME</th>\n",
       "      <th>Age</th>\n",
       "      <th>gender</th>\n",
       "      <th>country</th>\n",
       "      <th>residence</th>\n",
       "      <th>entryEXAM</th>\n",
       "      <th>prevEducation</th>\n",
       "      <th>studyHOURS</th>\n",
       "      <th>Python</th>\n",
       "      <th>DB</th>\n",
       "    </tr>\n",
       "  </thead>\n",
       "  <tbody>\n",
       "    <tr>\n",
       "      <th>0</th>\n",
       "      <td>Christina</td>\n",
       "      <td>Binger</td>\n",
       "      <td>44</td>\n",
       "      <td>F</td>\n",
       "      <td>Norway</td>\n",
       "      <td>Private</td>\n",
       "      <td>72</td>\n",
       "      <td>Masters</td>\n",
       "      <td>158</td>\n",
       "      <td>59.0</td>\n",
       "      <td>55</td>\n",
       "    </tr>\n",
       "    <tr>\n",
       "      <th>1</th>\n",
       "      <td>Alex</td>\n",
       "      <td>Walekhwa</td>\n",
       "      <td>60</td>\n",
       "      <td>M</td>\n",
       "      <td>Kenya</td>\n",
       "      <td>Private</td>\n",
       "      <td>79</td>\n",
       "      <td>Diploma</td>\n",
       "      <td>150</td>\n",
       "      <td>60.0</td>\n",
       "      <td>75</td>\n",
       "    </tr>\n",
       "    <tr>\n",
       "      <th>2</th>\n",
       "      <td>Philip</td>\n",
       "      <td>Leo</td>\n",
       "      <td>25</td>\n",
       "      <td>M</td>\n",
       "      <td>Uganda</td>\n",
       "      <td>Sognsvann</td>\n",
       "      <td>55</td>\n",
       "      <td>High School</td>\n",
       "      <td>130</td>\n",
       "      <td>74.0</td>\n",
       "      <td>50</td>\n",
       "    </tr>\n",
       "    <tr>\n",
       "      <th>3</th>\n",
       "      <td>Shoni</td>\n",
       "      <td>Hlongwane</td>\n",
       "      <td>22</td>\n",
       "      <td>F</td>\n",
       "      <td>Rsa</td>\n",
       "      <td>Sognsvann</td>\n",
       "      <td>40</td>\n",
       "      <td>High School</td>\n",
       "      <td>120</td>\n",
       "      <td>81.0</td>\n",
       "      <td>44</td>\n",
       "    </tr>\n",
       "    <tr>\n",
       "      <th>4</th>\n",
       "      <td>Maria</td>\n",
       "      <td>Kedibone</td>\n",
       "      <td>23</td>\n",
       "      <td>F</td>\n",
       "      <td>South Africa</td>\n",
       "      <td>Sognsvann</td>\n",
       "      <td>65</td>\n",
       "      <td>High School</td>\n",
       "      <td>122</td>\n",
       "      <td>91.0</td>\n",
       "      <td>80</td>\n",
       "    </tr>\n",
       "  </tbody>\n",
       "</table>\n",
       "</div>"
      ],
      "text/plain": [
       "       fNAME      lNAME  Age gender       country  residence  entryEXAM  \\\n",
       "0  Christina     Binger   44      F        Norway    Private         72   \n",
       "1       Alex   Walekhwa   60      M         Kenya    Private         79   \n",
       "2     Philip        Leo   25      M        Uganda  Sognsvann         55   \n",
       "3      Shoni  Hlongwane   22      F           Rsa  Sognsvann         40   \n",
       "4      Maria   Kedibone   23      F  South Africa  Sognsvann         65   \n",
       "\n",
       "  prevEducation  studyHOURS  Python  DB  \n",
       "0       Masters         158    59.0  55  \n",
       "1       Diploma         150    60.0  75  \n",
       "2   High School         130    74.0  50  \n",
       "3   High School         120    81.0  44  \n",
       "4   High School         122    91.0  80  "
      ]
     },
     "execution_count": 30,
     "metadata": {},
     "output_type": "execute_result"
    }
   ],
   "source": [
    "df_median.head()"
   ]
  },
  {
   "cell_type": "markdown",
   "id": "dca138ac-e2ac-4009-a954-5c1ec3620101",
   "metadata": {},
   "source": [
    "**Mean** : sensitive to outliers.\n",
    "\n",
    "**Median** : Not sensitive to outliers, So this is the best solution."
   ]
  },
  {
   "cell_type": "code",
   "execution_count": 32,
   "id": "651525f4-cf72-48c8-a0f3-c94bfdb613b9",
   "metadata": {},
   "outputs": [
    {
     "name": "stderr",
     "output_type": "stream",
     "text": [
      "C:\\Users\\DELL\\AppData\\Local\\Temp\\ipykernel_23692\\3976076892.py:1: FutureWarning: A value is trying to be set on a copy of a DataFrame or Series through chained assignment using an inplace method.\n",
      "The behavior will change in pandas 3.0. This inplace method will never work because the intermediate object on which we are setting values always behaves as a copy.\n",
      "\n",
      "For example, when doing 'df[col].method(value, inplace=True)', try using 'df.method({col: value}, inplace=True)' or df[col] = df[col].method(value) instead, to perform the operation inplace on the original object.\n",
      "\n",
      "\n",
      "  df[\"Python\"].fillna(df[\"Python\"].median(), inplace=True)\n"
     ]
    },
    {
     "data": {
      "text/html": [
       "<div>\n",
       "<style scoped>\n",
       "    .dataframe tbody tr th:only-of-type {\n",
       "        vertical-align: middle;\n",
       "    }\n",
       "\n",
       "    .dataframe tbody tr th {\n",
       "        vertical-align: top;\n",
       "    }\n",
       "\n",
       "    .dataframe thead th {\n",
       "        text-align: right;\n",
       "    }\n",
       "</style>\n",
       "<table border=\"1\" class=\"dataframe\">\n",
       "  <thead>\n",
       "    <tr style=\"text-align: right;\">\n",
       "      <th></th>\n",
       "      <th>fNAME</th>\n",
       "      <th>lNAME</th>\n",
       "      <th>Age</th>\n",
       "      <th>gender</th>\n",
       "      <th>country</th>\n",
       "      <th>residence</th>\n",
       "      <th>entryEXAM</th>\n",
       "      <th>prevEducation</th>\n",
       "      <th>studyHOURS</th>\n",
       "      <th>Python</th>\n",
       "      <th>DB</th>\n",
       "    </tr>\n",
       "  </thead>\n",
       "  <tbody>\n",
       "    <tr>\n",
       "      <th>0</th>\n",
       "      <td>Christina</td>\n",
       "      <td>Binger</td>\n",
       "      <td>44</td>\n",
       "      <td>F</td>\n",
       "      <td>Norway</td>\n",
       "      <td>Private</td>\n",
       "      <td>72</td>\n",
       "      <td>Masters</td>\n",
       "      <td>158</td>\n",
       "      <td>59.0</td>\n",
       "      <td>55</td>\n",
       "    </tr>\n",
       "    <tr>\n",
       "      <th>1</th>\n",
       "      <td>Alex</td>\n",
       "      <td>Walekhwa</td>\n",
       "      <td>60</td>\n",
       "      <td>M</td>\n",
       "      <td>Kenya</td>\n",
       "      <td>Private</td>\n",
       "      <td>79</td>\n",
       "      <td>Diploma</td>\n",
       "      <td>150</td>\n",
       "      <td>60.0</td>\n",
       "      <td>75</td>\n",
       "    </tr>\n",
       "    <tr>\n",
       "      <th>2</th>\n",
       "      <td>Philip</td>\n",
       "      <td>Leo</td>\n",
       "      <td>25</td>\n",
       "      <td>M</td>\n",
       "      <td>Uganda</td>\n",
       "      <td>Sognsvann</td>\n",
       "      <td>55</td>\n",
       "      <td>High School</td>\n",
       "      <td>130</td>\n",
       "      <td>74.0</td>\n",
       "      <td>50</td>\n",
       "    </tr>\n",
       "    <tr>\n",
       "      <th>3</th>\n",
       "      <td>Shoni</td>\n",
       "      <td>Hlongwane</td>\n",
       "      <td>22</td>\n",
       "      <td>F</td>\n",
       "      <td>Rsa</td>\n",
       "      <td>Sognsvann</td>\n",
       "      <td>40</td>\n",
       "      <td>High School</td>\n",
       "      <td>120</td>\n",
       "      <td>81.0</td>\n",
       "      <td>44</td>\n",
       "    </tr>\n",
       "    <tr>\n",
       "      <th>4</th>\n",
       "      <td>Maria</td>\n",
       "      <td>Kedibone</td>\n",
       "      <td>23</td>\n",
       "      <td>F</td>\n",
       "      <td>South Africa</td>\n",
       "      <td>Sognsvann</td>\n",
       "      <td>65</td>\n",
       "      <td>High School</td>\n",
       "      <td>122</td>\n",
       "      <td>91.0</td>\n",
       "      <td>80</td>\n",
       "    </tr>\n",
       "  </tbody>\n",
       "</table>\n",
       "</div>"
      ],
      "text/plain": [
       "       fNAME      lNAME  Age gender       country  residence  entryEXAM  \\\n",
       "0  Christina     Binger   44      F        Norway    Private         72   \n",
       "1       Alex   Walekhwa   60      M         Kenya    Private         79   \n",
       "2     Philip        Leo   25      M        Uganda  Sognsvann         55   \n",
       "3      Shoni  Hlongwane   22      F           Rsa  Sognsvann         40   \n",
       "4      Maria   Kedibone   23      F  South Africa  Sognsvann         65   \n",
       "\n",
       "  prevEducation  studyHOURS  Python  DB  \n",
       "0       Masters         158    59.0  55  \n",
       "1       Diploma         150    60.0  75  \n",
       "2   High School         130    74.0  50  \n",
       "3   High School         120    81.0  44  \n",
       "4   High School         122    91.0  80  "
      ]
     },
     "execution_count": 32,
     "metadata": {},
     "output_type": "execute_result"
    }
   ],
   "source": [
    "df[\"Python\"].fillna(df[\"Python\"].median(), inplace=True)\n",
    "df.head()"
   ]
  },
  {
   "cell_type": "markdown",
   "id": "17e6f340-a8b8-440b-99ed-89d55a030c8f",
   "metadata": {},
   "source": [
    "How missing values were imputed and why ?\n",
    "\n",
    "- Numerical Column: Python (2 missing values)\n",
    "\n",
    "- Median Imputation: Missing values in the Python column were filled with the median.\n",
    "\n",
    "Reason: The median is more robust in the presence of outliers because it is not affected by extreme values. \n",
    "\n",
    "- Mean Imputation (for comparison): Alternatively, the mean was also tested.\n",
    "\n",
    "Reason: The mean preserves the overall trend of the data, but it can be heavily influenced by outliers, which may lead to biased results.\n"
   ]
  },
  {
   "cell_type": "markdown",
   "id": "8e5203b1-1299-437e-a94c-78d93b8ed629",
   "metadata": {},
   "source": [
    "Part 3 – **Outliers**"
   ]
  },
  {
   "cell_type": "markdown",
   "id": "565cea47-afc5-4857-88c9-1366acfabc16",
   "metadata": {},
   "source": [
    "1 - Detect outliers"
   ]
  },
  {
   "cell_type": "code",
   "execution_count": 36,
   "id": "fcbaa6de-82a0-428a-831a-209da41fbc30",
   "metadata": {},
   "outputs": [
    {
     "data": {
      "image/png": "[encoded data removed]",
      "text/plain": [
       "<Figure size 1400x600 with 1 Axes>"
      ]
     },
     "metadata": {},
     "output_type": "display_data"
    }
   ],
   "source": [
    "# Seaborn\n",
    "plt.figure(figsize=(14,6))\n",
    "sns.boxplot(data = df , x = 'Age')\n",
    "plt.xticks([i for i in range(20,75,2)])\n",
    "plt.title('Age Distribution')\n",
    "plt.xlabel('Age')\n",
    "plt.ylabel('Frequency')\n",
    "plt.show()"
   ]
  },
  {
   "cell_type": "code",
   "execution_count": 37,
   "id": "7165be59-2675-4d70-8f37-7a760849d3c1",
   "metadata": {},
   "outputs": [
    {
     "data": {
      "image/png": "[encoded data removed]",
      "text/plain": [
       "<Figure size 1400x600 with 1 Axes>"
      ]
     },
     "metadata": {},
     "output_type": "display_data"
    }
   ],
   "source": [
    "# Seaborn\n",
    "plt.figure(figsize=(14,6))\n",
    "sns.boxplot(data = df , x = 'entryEXAM')\n",
    "plt.xticks([i for i in range(25,100,2)])\n",
    "plt.title('entryEXAM Distribution')\n",
    "plt.xlabel('entryEXAM')\n",
    "plt.ylabel('Frequency')\n",
    "plt.show()"
   ]
  },
  {
   "cell_type": "code",
   "execution_count": 38,
   "id": "760d41b9-f971-4e90-ab1d-5712638d448a",
   "metadata": {},
   "outputs": [
    {
     "data": {
      "image/png": "[encoded data removed]",
      "text/plain": [
       "<Figure size 1400x600 with 1 Axes>"
      ]
     },
     "metadata": {},
     "output_type": "display_data"
    }
   ],
   "source": [
    "# Seaborn\n",
    "plt.figure(figsize=(14,6))\n",
    "sns.boxplot(data = df , x = 'studyHOURS')\n",
    "plt.xticks([i for i in range(114,162,2)])\n",
    "plt.title('studyHOURS Distribution')\n",
    "plt.xlabel('studyHOURS')\n",
    "plt.ylabel('Frequency')\n",
    "plt.show()"
   ]
  },
  {
   "cell_type": "code",
   "execution_count": 39,
   "id": "1cedc2fc-e1b3-4f01-b44d-c1cf7369ca5c",
   "metadata": {},
   "outputs": [
    {
     "data": {
      "image/png": "[encoded data removed]",
      "text/plain": [
       "<Figure size 1400x600 with 1 Axes>"
      ]
     },
     "metadata": {},
     "output_type": "display_data"
    }
   ],
   "source": [
    "# Seaborn\n",
    "plt.figure(figsize=(14,6))\n",
    "sns.boxplot(data = df , x = 'Python')\n",
    "plt.xticks([i for i in range(14,100,2)])\n",
    "plt.title('Python Distribution')\n",
    "plt.xlabel('Python')\n",
    "plt.ylabel('Frequency')\n",
    "plt.show()"
   ]
  },
  {
   "cell_type": "code",
   "execution_count": 40,
   "id": "e2830000-df7f-4072-96ba-8e82c7938518",
   "metadata": {},
   "outputs": [
    {
     "data": {
      "image/png": "[encoded data removed]",
      "text/plain": [
       "<Figure size 1400x600 with 1 Axes>"
      ]
     },
     "metadata": {},
     "output_type": "display_data"
    }
   ],
   "source": [
    "# Seaborn\n",
    "plt.figure(figsize=(14,6))\n",
    "sns.boxplot(data = df , x = 'DB')\n",
    "plt.xticks([i for i in range(25,100,2)])\n",
    "plt.title('DataBase Distribution')\n",
    "plt.xlabel('DataBase')\n",
    "plt.ylabel('Frequency')\n",
    "plt.show()"
   ]
  },
  {
   "cell_type": "markdown",
   "id": "ef7f5228-b371-402c-9f41-735df37ad80b",
   "metadata": {},
   "source": [
    "Question: Which values in studyHOURS, Python, or DB look unrealistic?\n",
    "- Nothing , The values are real."
   ]
  },
  {
   "cell_type": "code",
   "execution_count": 42,
   "id": "9cbd6431-7054-46dc-83ee-037e2cd26fb2",
   "metadata": {},
   "outputs": [
    {
     "name": "stdout",
     "output_type": "stream",
     "text": [
      "Q1 : 72.0 , Q3 : 85.0 , IQR : 13.0 , lower_bound : 52.5 , upper_bound : 104.5\n"
     ]
    }
   ],
   "source": [
    "Q1 = df[\"Python\"].quantile(0.25)\n",
    "Q3 = df[\"Python\"].quantile(0.75)\n",
    "IQR = Q3 - Q1\n",
    "\n",
    "lower_bound = Q1 - 1.5 * IQR\n",
    "upper_bound = Q3 + 1.5 * IQR\n",
    "\n",
    "print(f\"Q1 : {Q1} , Q3 : {Q3} , IQR : {IQR} , lower_bound : {lower_bound} , upper_bound : {upper_bound}\")"
   ]
  },
  {
   "cell_type": "code",
   "execution_count": 43,
   "id": "d2cc587d-c9e4-4a14-acce-20ad6ae9815a",
   "metadata": {},
   "outputs": [
    {
     "data": {
      "text/html": [
       "<div>\n",
       "<style scoped>\n",
       "    .dataframe tbody tr th:only-of-type {\n",
       "        vertical-align: middle;\n",
       "    }\n",
       "\n",
       "    .dataframe tbody tr th {\n",
       "        vertical-align: top;\n",
       "    }\n",
       "\n",
       "    .dataframe thead th {\n",
       "        text-align: right;\n",
       "    }\n",
       "</style>\n",
       "<table border=\"1\" class=\"dataframe\">\n",
       "  <thead>\n",
       "    <tr style=\"text-align: right;\">\n",
       "      <th></th>\n",
       "      <th>fNAME</th>\n",
       "      <th>lNAME</th>\n",
       "      <th>Age</th>\n",
       "      <th>gender</th>\n",
       "      <th>country</th>\n",
       "      <th>residence</th>\n",
       "      <th>entryEXAM</th>\n",
       "      <th>prevEducation</th>\n",
       "      <th>studyHOURS</th>\n",
       "      <th>Python</th>\n",
       "      <th>DB</th>\n",
       "    </tr>\n",
       "  </thead>\n",
       "  <tbody>\n",
       "    <tr>\n",
       "      <th>1</th>\n",
       "      <td>Alex</td>\n",
       "      <td>Walekhwa</td>\n",
       "      <td>60</td>\n",
       "      <td>M</td>\n",
       "      <td>Kenya</td>\n",
       "      <td>Private</td>\n",
       "      <td>79</td>\n",
       "      <td>Diploma</td>\n",
       "      <td>150</td>\n",
       "      <td>60.0</td>\n",
       "      <td>75</td>\n",
       "    </tr>\n",
       "    <tr>\n",
       "      <th>32</th>\n",
       "      <td>Perry</td>\n",
       "      <td>Rّnning</td>\n",
       "      <td>71</td>\n",
       "      <td>F</td>\n",
       "      <td>Norway</td>\n",
       "      <td>Private</td>\n",
       "      <td>30</td>\n",
       "      <td>Doctorate</td>\n",
       "      <td>120</td>\n",
       "      <td>31.0</td>\n",
       "      <td>42</td>\n",
       "    </tr>\n",
       "    <tr>\n",
       "      <th>55</th>\n",
       "      <td>Chinedu</td>\n",
       "      <td>Okafor</td>\n",
       "      <td>69</td>\n",
       "      <td>M</td>\n",
       "      <td>Nigeria</td>\n",
       "      <td>Private</td>\n",
       "      <td>94</td>\n",
       "      <td>Doctorate</td>\n",
       "      <td>160</td>\n",
       "      <td>87.0</td>\n",
       "      <td>88</td>\n",
       "    </tr>\n",
       "  </tbody>\n",
       "</table>\n",
       "</div>"
      ],
      "text/plain": [
       "      fNAME     lNAME  Age gender  country residence  entryEXAM prevEducation  \\\n",
       "1      Alex  Walekhwa   60      M    Kenya   Private         79       Diploma   \n",
       "32    Perry   Rّnning   71      F   Norway   Private         30     Doctorate   \n",
       "55  Chinedu    Okafor   69      M  Nigeria   Private         94     Doctorate   \n",
       "\n",
       "    studyHOURS  Python  DB  \n",
       "1          150    60.0  75  \n",
       "32         120    31.0  42  \n",
       "55         160    87.0  88  "
      ]
     },
     "execution_count": 43,
     "metadata": {},
     "output_type": "execute_result"
    }
   ],
   "source": [
    "df[(df[\"Age\"] >= lower_bound) & (df[\"Age\"] <= upper_bound)]"
   ]
  },
  {
   "cell_type": "markdown",
   "id": "aa99a874-c0ae-4c4e-9424-8c4cc2b12a3c",
   "metadata": {},
   "source": [
    "How outliers were detected and treated ?\n",
    "\n",
    "- Detection methods used :\n",
    "\n",
    "Outliers were detected using Boxplots (sns.boxplot) for the columns Age, entryEXAM, Python, DB, and studyHOURS.\n",
    "\n",
    "-- Python Column : \n",
    "\n",
    "- Detection:\n",
    "\n",
    "The boxplot showed several unusually low values: 15, 30, 31, 33, 45, and 48 ,they might represent very weak performance. \n",
    "\n",
    "-- DB , studyHOURS , entryEXAM , Age Columns : \n",
    "\n",
    "- Detection:\n",
    "\n",
    "The boxplot showed several realistic values.\n",
    "  \n",
    "- Treatment:\n",
    "\n",
    "I treated them as normal values."
   ]
  },
  {
   "cell_type": "markdown",
   "id": "b87926e7-3008-4a40-bfd2-2222dcc28e05",
   "metadata": {},
   "source": [
    "Part 4 – **Feature Engineering**"
   ]
  },
  {
   "cell_type": "markdown",
   "id": "3d600424-3676-4782-8ca5-13318c0c6d94",
   "metadata": {},
   "source": [
    "1 - Create a new feature"
   ]
  },
  {
   "cell_type": "code",
   "execution_count": 47,
   "id": "6b491786-3ea4-489a-b424-a760c4a5c137",
   "metadata": {},
   "outputs": [
    {
     "data": {
      "text/html": [
       "<div>\n",
       "<style scoped>\n",
       "    .dataframe tbody tr th:only-of-type {\n",
       "        vertical-align: middle;\n",
       "    }\n",
       "\n",
       "    .dataframe tbody tr th {\n",
       "        vertical-align: top;\n",
       "    }\n",
       "\n",
       "    .dataframe thead th {\n",
       "        text-align: right;\n",
       "    }\n",
       "</style>\n",
       "<table border=\"1\" class=\"dataframe\">\n",
       "  <thead>\n",
       "    <tr style=\"text-align: right;\">\n",
       "      <th></th>\n",
       "      <th>fNAME</th>\n",
       "      <th>lNAME</th>\n",
       "      <th>Age</th>\n",
       "      <th>gender</th>\n",
       "      <th>country</th>\n",
       "      <th>residence</th>\n",
       "      <th>entryEXAM</th>\n",
       "      <th>prevEducation</th>\n",
       "      <th>studyHOURS</th>\n",
       "      <th>Python</th>\n",
       "      <th>DB</th>\n",
       "      <th>Programming Average</th>\n",
       "    </tr>\n",
       "  </thead>\n",
       "  <tbody>\n",
       "    <tr>\n",
       "      <th>0</th>\n",
       "      <td>Christina</td>\n",
       "      <td>Binger</td>\n",
       "      <td>44</td>\n",
       "      <td>F</td>\n",
       "      <td>Norway</td>\n",
       "      <td>Private</td>\n",
       "      <td>72</td>\n",
       "      <td>Masters</td>\n",
       "      <td>158</td>\n",
       "      <td>59.0</td>\n",
       "      <td>55</td>\n",
       "      <td>57.0</td>\n",
       "    </tr>\n",
       "    <tr>\n",
       "      <th>1</th>\n",
       "      <td>Alex</td>\n",
       "      <td>Walekhwa</td>\n",
       "      <td>60</td>\n",
       "      <td>M</td>\n",
       "      <td>Kenya</td>\n",
       "      <td>Private</td>\n",
       "      <td>79</td>\n",
       "      <td>Diploma</td>\n",
       "      <td>150</td>\n",
       "      <td>60.0</td>\n",
       "      <td>75</td>\n",
       "      <td>67.5</td>\n",
       "    </tr>\n",
       "    <tr>\n",
       "      <th>2</th>\n",
       "      <td>Philip</td>\n",
       "      <td>Leo</td>\n",
       "      <td>25</td>\n",
       "      <td>M</td>\n",
       "      <td>Uganda</td>\n",
       "      <td>Sognsvann</td>\n",
       "      <td>55</td>\n",
       "      <td>High School</td>\n",
       "      <td>130</td>\n",
       "      <td>74.0</td>\n",
       "      <td>50</td>\n",
       "      <td>62.0</td>\n",
       "    </tr>\n",
       "    <tr>\n",
       "      <th>3</th>\n",
       "      <td>Shoni</td>\n",
       "      <td>Hlongwane</td>\n",
       "      <td>22</td>\n",
       "      <td>F</td>\n",
       "      <td>Rsa</td>\n",
       "      <td>Sognsvann</td>\n",
       "      <td>40</td>\n",
       "      <td>High School</td>\n",
       "      <td>120</td>\n",
       "      <td>81.0</td>\n",
       "      <td>44</td>\n",
       "      <td>62.5</td>\n",
       "    </tr>\n",
       "    <tr>\n",
       "      <th>4</th>\n",
       "      <td>Maria</td>\n",
       "      <td>Kedibone</td>\n",
       "      <td>23</td>\n",
       "      <td>F</td>\n",
       "      <td>South Africa</td>\n",
       "      <td>Sognsvann</td>\n",
       "      <td>65</td>\n",
       "      <td>High School</td>\n",
       "      <td>122</td>\n",
       "      <td>91.0</td>\n",
       "      <td>80</td>\n",
       "      <td>85.5</td>\n",
       "    </tr>\n",
       "  </tbody>\n",
       "</table>\n",
       "</div>"
      ],
      "text/plain": [
       "       fNAME      lNAME  Age gender       country  residence  entryEXAM  \\\n",
       "0  Christina     Binger   44      F        Norway    Private         72   \n",
       "1       Alex   Walekhwa   60      M         Kenya    Private         79   \n",
       "2     Philip        Leo   25      M        Uganda  Sognsvann         55   \n",
       "3      Shoni  Hlongwane   22      F           Rsa  Sognsvann         40   \n",
       "4      Maria   Kedibone   23      F  South Africa  Sognsvann         65   \n",
       "\n",
       "  prevEducation  studyHOURS  Python  DB  Programming Average  \n",
       "0       Masters         158    59.0  55                 57.0  \n",
       "1       Diploma         150    60.0  75                 67.5  \n",
       "2   High School         130    74.0  50                 62.0  \n",
       "3   High School         120    81.0  44                 62.5  \n",
       "4   High School         122    91.0  80                 85.5  "
      ]
     },
     "execution_count": 47,
     "metadata": {},
     "output_type": "execute_result"
    }
   ],
   "source": [
    "df['Programming Average'] = (df['Python'] + df['DB']) / 2\n",
    "df.head()"
   ]
  },
  {
   "cell_type": "markdown",
   "id": "878727e9-d351-4205-9cda-e12437115bd8",
   "metadata": {},
   "source": [
    "2 - Create a binary feature"
   ]
  },
  {
   "cell_type": "code",
   "execution_count": 49,
   "id": "88fdb04f-7d01-4144-8bc2-463ec6417696",
   "metadata": {},
   "outputs": [
    {
     "data": {
      "text/html": [
       "<div>\n",
       "<style scoped>\n",
       "    .dataframe tbody tr th:only-of-type {\n",
       "        vertical-align: middle;\n",
       "    }\n",
       "\n",
       "    .dataframe tbody tr th {\n",
       "        vertical-align: top;\n",
       "    }\n",
       "\n",
       "    .dataframe thead th {\n",
       "        text-align: right;\n",
       "    }\n",
       "</style>\n",
       "<table border=\"1\" class=\"dataframe\">\n",
       "  <thead>\n",
       "    <tr style=\"text-align: right;\">\n",
       "      <th></th>\n",
       "      <th>fNAME</th>\n",
       "      <th>lNAME</th>\n",
       "      <th>Age</th>\n",
       "      <th>gender</th>\n",
       "      <th>country</th>\n",
       "      <th>residence</th>\n",
       "      <th>entryEXAM</th>\n",
       "      <th>prevEducation</th>\n",
       "      <th>studyHOURS</th>\n",
       "      <th>Python</th>\n",
       "      <th>DB</th>\n",
       "      <th>Programming Average</th>\n",
       "      <th>isAdult</th>\n",
       "    </tr>\n",
       "  </thead>\n",
       "  <tbody>\n",
       "    <tr>\n",
       "      <th>0</th>\n",
       "      <td>Christina</td>\n",
       "      <td>Binger</td>\n",
       "      <td>44</td>\n",
       "      <td>F</td>\n",
       "      <td>Norway</td>\n",
       "      <td>Private</td>\n",
       "      <td>72</td>\n",
       "      <td>Masters</td>\n",
       "      <td>158</td>\n",
       "      <td>59.0</td>\n",
       "      <td>55</td>\n",
       "      <td>57.0</td>\n",
       "      <td>1</td>\n",
       "    </tr>\n",
       "    <tr>\n",
       "      <th>1</th>\n",
       "      <td>Alex</td>\n",
       "      <td>Walekhwa</td>\n",
       "      <td>60</td>\n",
       "      <td>M</td>\n",
       "      <td>Kenya</td>\n",
       "      <td>Private</td>\n",
       "      <td>79</td>\n",
       "      <td>Diploma</td>\n",
       "      <td>150</td>\n",
       "      <td>60.0</td>\n",
       "      <td>75</td>\n",
       "      <td>67.5</td>\n",
       "      <td>1</td>\n",
       "    </tr>\n",
       "    <tr>\n",
       "      <th>2</th>\n",
       "      <td>Philip</td>\n",
       "      <td>Leo</td>\n",
       "      <td>25</td>\n",
       "      <td>M</td>\n",
       "      <td>Uganda</td>\n",
       "      <td>Sognsvann</td>\n",
       "      <td>55</td>\n",
       "      <td>High School</td>\n",
       "      <td>130</td>\n",
       "      <td>74.0</td>\n",
       "      <td>50</td>\n",
       "      <td>62.0</td>\n",
       "      <td>1</td>\n",
       "    </tr>\n",
       "    <tr>\n",
       "      <th>3</th>\n",
       "      <td>Shoni</td>\n",
       "      <td>Hlongwane</td>\n",
       "      <td>22</td>\n",
       "      <td>F</td>\n",
       "      <td>Rsa</td>\n",
       "      <td>Sognsvann</td>\n",
       "      <td>40</td>\n",
       "      <td>High School</td>\n",
       "      <td>120</td>\n",
       "      <td>81.0</td>\n",
       "      <td>44</td>\n",
       "      <td>62.5</td>\n",
       "      <td>0</td>\n",
       "    </tr>\n",
       "    <tr>\n",
       "      <th>4</th>\n",
       "      <td>Maria</td>\n",
       "      <td>Kedibone</td>\n",
       "      <td>23</td>\n",
       "      <td>F</td>\n",
       "      <td>South Africa</td>\n",
       "      <td>Sognsvann</td>\n",
       "      <td>65</td>\n",
       "      <td>High School</td>\n",
       "      <td>122</td>\n",
       "      <td>91.0</td>\n",
       "      <td>80</td>\n",
       "      <td>85.5</td>\n",
       "      <td>0</td>\n",
       "    </tr>\n",
       "  </tbody>\n",
       "</table>\n",
       "</div>"
      ],
      "text/plain": [
       "       fNAME      lNAME  Age gender       country  residence  entryEXAM  \\\n",
       "0  Christina     Binger   44      F        Norway    Private         72   \n",
       "1       Alex   Walekhwa   60      M         Kenya    Private         79   \n",
       "2     Philip        Leo   25      M        Uganda  Sognsvann         55   \n",
       "3      Shoni  Hlongwane   22      F           Rsa  Sognsvann         40   \n",
       "4      Maria   Kedibone   23      F  South Africa  Sognsvann         65   \n",
       "\n",
       "  prevEducation  studyHOURS  Python  DB  Programming Average  isAdult  \n",
       "0       Masters         158    59.0  55                 57.0        1  \n",
       "1       Diploma         150    60.0  75                 67.5        1  \n",
       "2   High School         130    74.0  50                 62.0        1  \n",
       "3   High School         120    81.0  44                 62.5        0  \n",
       "4   High School         122    91.0  80                 85.5        0  "
      ]
     },
     "execution_count": 49,
     "metadata": {},
     "output_type": "execute_result"
    }
   ],
   "source": [
    "df['isAdult'] = (df['Age'] >= 25).astype(int)\n",
    "df.head()"
   ]
  },
  {
   "cell_type": "markdown",
   "id": "fc67588d-2cf8-42d2-9550-6a83d2278127",
   "metadata": {},
   "source": [
    "3 - Transform studyHOURS into categories (Low / Medium / High)."
   ]
  },
  {
   "cell_type": "code",
   "execution_count": 51,
   "id": "f0cb9633-816d-4bc9-abd1-ff24b7cf803d",
   "metadata": {},
   "outputs": [
    {
     "data": {
      "text/html": [
       "<div>\n",
       "<style scoped>\n",
       "    .dataframe tbody tr th:only-of-type {\n",
       "        vertical-align: middle;\n",
       "    }\n",
       "\n",
       "    .dataframe tbody tr th {\n",
       "        vertical-align: top;\n",
       "    }\n",
       "\n",
       "    .dataframe thead th {\n",
       "        text-align: right;\n",
       "    }\n",
       "</style>\n",
       "<table border=\"1\" class=\"dataframe\">\n",
       "  <thead>\n",
       "    <tr style=\"text-align: right;\">\n",
       "      <th></th>\n",
       "      <th>fNAME</th>\n",
       "      <th>lNAME</th>\n",
       "      <th>Age</th>\n",
       "      <th>gender</th>\n",
       "      <th>country</th>\n",
       "      <th>residence</th>\n",
       "      <th>entryEXAM</th>\n",
       "      <th>prevEducation</th>\n",
       "      <th>studyHOURS</th>\n",
       "      <th>Python</th>\n",
       "      <th>DB</th>\n",
       "      <th>Programming Average</th>\n",
       "      <th>isAdult</th>\n",
       "      <th>studyHOURS_Cag</th>\n",
       "    </tr>\n",
       "  </thead>\n",
       "  <tbody>\n",
       "    <tr>\n",
       "      <th>0</th>\n",
       "      <td>Christina</td>\n",
       "      <td>Binger</td>\n",
       "      <td>44</td>\n",
       "      <td>F</td>\n",
       "      <td>Norway</td>\n",
       "      <td>Private</td>\n",
       "      <td>72</td>\n",
       "      <td>Masters</td>\n",
       "      <td>158</td>\n",
       "      <td>59.0</td>\n",
       "      <td>55</td>\n",
       "      <td>57.0</td>\n",
       "      <td>1</td>\n",
       "      <td>High</td>\n",
       "    </tr>\n",
       "    <tr>\n",
       "      <th>1</th>\n",
       "      <td>Alex</td>\n",
       "      <td>Walekhwa</td>\n",
       "      <td>60</td>\n",
       "      <td>M</td>\n",
       "      <td>Kenya</td>\n",
       "      <td>Private</td>\n",
       "      <td>79</td>\n",
       "      <td>Diploma</td>\n",
       "      <td>150</td>\n",
       "      <td>60.0</td>\n",
       "      <td>75</td>\n",
       "      <td>67.5</td>\n",
       "      <td>1</td>\n",
       "      <td>Medium</td>\n",
       "    </tr>\n",
       "    <tr>\n",
       "      <th>2</th>\n",
       "      <td>Philip</td>\n",
       "      <td>Leo</td>\n",
       "      <td>25</td>\n",
       "      <td>M</td>\n",
       "      <td>Uganda</td>\n",
       "      <td>Sognsvann</td>\n",
       "      <td>55</td>\n",
       "      <td>High School</td>\n",
       "      <td>130</td>\n",
       "      <td>74.0</td>\n",
       "      <td>50</td>\n",
       "      <td>62.0</td>\n",
       "      <td>1</td>\n",
       "      <td>Medium</td>\n",
       "    </tr>\n",
       "    <tr>\n",
       "      <th>3</th>\n",
       "      <td>Shoni</td>\n",
       "      <td>Hlongwane</td>\n",
       "      <td>22</td>\n",
       "      <td>F</td>\n",
       "      <td>Rsa</td>\n",
       "      <td>Sognsvann</td>\n",
       "      <td>40</td>\n",
       "      <td>High School</td>\n",
       "      <td>120</td>\n",
       "      <td>81.0</td>\n",
       "      <td>44</td>\n",
       "      <td>62.5</td>\n",
       "      <td>0</td>\n",
       "      <td>Low</td>\n",
       "    </tr>\n",
       "    <tr>\n",
       "      <th>4</th>\n",
       "      <td>Maria</td>\n",
       "      <td>Kedibone</td>\n",
       "      <td>23</td>\n",
       "      <td>F</td>\n",
       "      <td>South Africa</td>\n",
       "      <td>Sognsvann</td>\n",
       "      <td>65</td>\n",
       "      <td>High School</td>\n",
       "      <td>122</td>\n",
       "      <td>91.0</td>\n",
       "      <td>80</td>\n",
       "      <td>85.5</td>\n",
       "      <td>0</td>\n",
       "      <td>Medium</td>\n",
       "    </tr>\n",
       "  </tbody>\n",
       "</table>\n",
       "</div>"
      ],
      "text/plain": [
       "       fNAME      lNAME  Age gender       country  residence  entryEXAM  \\\n",
       "0  Christina     Binger   44      F        Norway    Private         72   \n",
       "1       Alex   Walekhwa   60      M         Kenya    Private         79   \n",
       "2     Philip        Leo   25      M        Uganda  Sognsvann         55   \n",
       "3      Shoni  Hlongwane   22      F           Rsa  Sognsvann         40   \n",
       "4      Maria   Kedibone   23      F  South Africa  Sognsvann         65   \n",
       "\n",
       "  prevEducation  studyHOURS  Python  DB  Programming Average  isAdult  \\\n",
       "0       Masters         158    59.0  55                 57.0        1   \n",
       "1       Diploma         150    60.0  75                 67.5        1   \n",
       "2   High School         130    74.0  50                 62.0        1   \n",
       "3   High School         120    81.0  44                 62.5        0   \n",
       "4   High School         122    91.0  80                 85.5        0   \n",
       "\n",
       "  studyHOURS_Cag  \n",
       "0           High  \n",
       "1         Medium  \n",
       "2         Medium  \n",
       "3            Low  \n",
       "4         Medium  "
      ]
     },
     "execution_count": 51,
     "metadata": {},
     "output_type": "execute_result"
    }
   ],
   "source": [
    "df['studyHOURS_Cag'] = pd.cut(df['studyHOURS'] , labels = ['Low' , 'Medium' , 'High'] , bins = [0,120,150,165])\n",
    "df.head()"
   ]
  },
  {
   "cell_type": "markdown",
   "id": "50503222-f7a8-426f-a812-ce04bd2ed0e1",
   "metadata": {},
   "source": [
    "Part 5 – **Feature Scaling**"
   ]
  },
  {
   "cell_type": "markdown",
   "id": "d15e53ac-0d16-42b9-bfc2-852f41c16179",
   "metadata": {},
   "source": [
    "1 - Detect Numeric Columns"
   ]
  },
  {
   "cell_type": "code",
   "execution_count": 54,
   "id": "c97355f2-123a-4bc1-9656-e13708ee5e60",
   "metadata": {},
   "outputs": [],
   "source": [
    "Numerical_cols = df.select_dtypes(include=[\"int64\" , \"float64\"]).columns.tolist()"
   ]
  },
  {
   "cell_type": "code",
   "execution_count": 55,
   "id": "f54f37bb-0400-414c-9754-97a62e91b408",
   "metadata": {},
   "outputs": [
    {
     "name": "stderr",
     "output_type": "stream",
     "text": [
      "C:\\Users\\DELL\\anaconda3\\Lib\\site-packages\\seaborn\\_oldcore.py:1119: FutureWarning: use_inf_as_na option is deprecated and will be removed in a future version. Convert inf values to NaN before operating instead.\n",
      "  with pd.option_context('mode.use_inf_as_na', True):\n",
      "C:\\Users\\DELL\\anaconda3\\Lib\\site-packages\\seaborn\\_oldcore.py:1119: FutureWarning: use_inf_as_na option is deprecated and will be removed in a future version. Convert inf values to NaN before operating instead.\n",
      "  with pd.option_context('mode.use_inf_as_na', True):\n",
      "C:\\Users\\DELL\\anaconda3\\Lib\\site-packages\\seaborn\\_oldcore.py:1119: FutureWarning: use_inf_as_na option is deprecated and will be removed in a future version. Convert inf values to NaN before operating instead.\n",
      "  with pd.option_context('mode.use_inf_as_na', True):\n",
      "C:\\Users\\DELL\\anaconda3\\Lib\\site-packages\\seaborn\\_oldcore.py:1119: FutureWarning: use_inf_as_na option is deprecated and will be removed in a future version. Convert inf values to NaN before operating instead.\n",
      "  with pd.option_context('mode.use_inf_as_na', True):\n"
     ]
    },
    {
     "data": {
      "image/png": "[encoded data removed]",
      "text/plain": [
       "<Figure size 1400x600 with 4 Axes>"
      ]
     },
     "metadata": {},
     "output_type": "display_data"
    }
   ],
   "source": [
    "# subplot\n",
    "plt.figure(figsize=(14,6))\n",
    "plt.subplot(2,2,1)\n",
    "sns.histplot(df['entryEXAM'] , bins = 70 , edgecolor = 'green' , color = 'blue', fill = False , kde = True)\n",
    "plt.title('entryEXAM')\n",
    "plt.xlabel('entryEXAM')\n",
    "\n",
    "plt.subplot(2,2,2)\n",
    "sns.histplot(df['studyHOURS'] , bins = 46 , edgecolor = 'green' , color = 'blue', fill = False , kde = True)\n",
    "plt.title('studyHOURS')\n",
    "plt.xlabel('studyHOURS')\n",
    "\n",
    "plt.subplot(2,2,3)\n",
    "sns.histplot(df['Python'] , bins = 76 , edgecolor = 'green' , color = 'blue', fill = False , kde = True)\n",
    "plt.title('Python')\n",
    "plt.xlabel('Python')\n",
    "\n",
    "plt.subplot(2,2,4)\n",
    "sns.histplot(df['DB'] , bins = 70 , edgecolor = 'green' , color = 'blue', fill = False , kde = True)\n",
    "plt.title('DB Distribution')\n",
    "plt.xlabel('DB')\n",
    "\n",
    "plt.tight_layout()\n",
    "plt.show()"
   ]
  },
  {
   "cell_type": "code",
   "execution_count": 56,
   "id": "2c00076a-651a-4d68-8318-d14b3dc563ec",
   "metadata": {},
   "outputs": [
    {
     "name": "stderr",
     "output_type": "stream",
     "text": [
      "C:\\Users\\DELL\\anaconda3\\Lib\\site-packages\\seaborn\\_oldcore.py:1119: FutureWarning: use_inf_as_na option is deprecated and will be removed in a future version. Convert inf values to NaN before operating instead.\n",
      "  with pd.option_context('mode.use_inf_as_na', True):\n"
     ]
    },
    {
     "data": {
      "image/png": "[encoded data removed]",
      "text/plain": [
       "<Figure size 1400x600 with 1 Axes>"
      ]
     },
     "metadata": {},
     "output_type": "display_data"
    }
   ],
   "source": [
    "# Seaborn\n",
    "plt.figure(figsize=(14,6))\n",
    "sns.histplot(df['Age'] , bins = 50 , edgecolor = 'green' , color = 'blue', fill = False , kde = True)\n",
    "plt.title('Age')\n",
    "plt.xlabel('Age')\n",
    "plt.show()"
   ]
  },
  {
   "cell_type": "markdown",
   "id": "a8d8c714-5b55-4a33-8bcc-91318aa0e211",
   "metadata": {},
   "source": [
    "2 - Apply Scaling"
   ]
  },
  {
   "cell_type": "code",
   "execution_count": 58,
   "id": "83a4a702-5f64-4e94-aeb0-4b3464647c20",
   "metadata": {},
   "outputs": [
    {
     "data": {
      "text/html": [
       "<div>\n",
       "<style scoped>\n",
       "    .dataframe tbody tr th:only-of-type {\n",
       "        vertical-align: middle;\n",
       "    }\n",
       "\n",
       "    .dataframe tbody tr th {\n",
       "        vertical-align: top;\n",
       "    }\n",
       "\n",
       "    .dataframe thead th {\n",
       "        text-align: right;\n",
       "    }\n",
       "</style>\n",
       "<table border=\"1\" class=\"dataframe\">\n",
       "  <thead>\n",
       "    <tr style=\"text-align: right;\">\n",
       "      <th></th>\n",
       "      <th>fNAME</th>\n",
       "      <th>lNAME</th>\n",
       "      <th>Age</th>\n",
       "      <th>gender</th>\n",
       "      <th>country</th>\n",
       "      <th>residence</th>\n",
       "      <th>entryEXAM</th>\n",
       "      <th>prevEducation</th>\n",
       "      <th>studyHOURS</th>\n",
       "      <th>Python</th>\n",
       "      <th>DB</th>\n",
       "      <th>Programming Average</th>\n",
       "      <th>isAdult</th>\n",
       "      <th>studyHOURS_Cag</th>\n",
       "    </tr>\n",
       "  </thead>\n",
       "  <tbody>\n",
       "    <tr>\n",
       "      <th>0</th>\n",
       "      <td>Christina</td>\n",
       "      <td>Binger</td>\n",
       "      <td>0.46</td>\n",
       "      <td>F</td>\n",
       "      <td>Norway</td>\n",
       "      <td>Private</td>\n",
       "      <td>0.628571</td>\n",
       "      <td>Masters</td>\n",
       "      <td>0.956522</td>\n",
       "      <td>0.578947</td>\n",
       "      <td>0.357143</td>\n",
       "      <td>0.414634</td>\n",
       "      <td>1</td>\n",
       "      <td>High</td>\n",
       "    </tr>\n",
       "    <tr>\n",
       "      <th>1</th>\n",
       "      <td>Alex</td>\n",
       "      <td>Walekhwa</td>\n",
       "      <td>0.78</td>\n",
       "      <td>M</td>\n",
       "      <td>Kenya</td>\n",
       "      <td>Private</td>\n",
       "      <td>0.728571</td>\n",
       "      <td>Diploma</td>\n",
       "      <td>0.782609</td>\n",
       "      <td>0.592105</td>\n",
       "      <td>0.642857</td>\n",
       "      <td>0.585366</td>\n",
       "      <td>1</td>\n",
       "      <td>Medium</td>\n",
       "    </tr>\n",
       "    <tr>\n",
       "      <th>2</th>\n",
       "      <td>Philip</td>\n",
       "      <td>Leo</td>\n",
       "      <td>0.08</td>\n",
       "      <td>M</td>\n",
       "      <td>Uganda</td>\n",
       "      <td>Sognsvann</td>\n",
       "      <td>0.385714</td>\n",
       "      <td>High School</td>\n",
       "      <td>0.347826</td>\n",
       "      <td>0.776316</td>\n",
       "      <td>0.285714</td>\n",
       "      <td>0.495935</td>\n",
       "      <td>1</td>\n",
       "      <td>Medium</td>\n",
       "    </tr>\n",
       "    <tr>\n",
       "      <th>3</th>\n",
       "      <td>Shoni</td>\n",
       "      <td>Hlongwane</td>\n",
       "      <td>0.02</td>\n",
       "      <td>F</td>\n",
       "      <td>Rsa</td>\n",
       "      <td>Sognsvann</td>\n",
       "      <td>0.171429</td>\n",
       "      <td>High School</td>\n",
       "      <td>0.130435</td>\n",
       "      <td>0.868421</td>\n",
       "      <td>0.200000</td>\n",
       "      <td>0.504065</td>\n",
       "      <td>0</td>\n",
       "      <td>Low</td>\n",
       "    </tr>\n",
       "    <tr>\n",
       "      <th>4</th>\n",
       "      <td>Maria</td>\n",
       "      <td>Kedibone</td>\n",
       "      <td>0.04</td>\n",
       "      <td>F</td>\n",
       "      <td>South Africa</td>\n",
       "      <td>Sognsvann</td>\n",
       "      <td>0.528571</td>\n",
       "      <td>High School</td>\n",
       "      <td>0.173913</td>\n",
       "      <td>1.000000</td>\n",
       "      <td>0.714286</td>\n",
       "      <td>0.878049</td>\n",
       "      <td>0</td>\n",
       "      <td>Medium</td>\n",
       "    </tr>\n",
       "  </tbody>\n",
       "</table>\n",
       "</div>"
      ],
      "text/plain": [
       "       fNAME      lNAME   Age gender       country  residence  entryEXAM  \\\n",
       "0  Christina     Binger  0.46      F        Norway    Private   0.628571   \n",
       "1       Alex   Walekhwa  0.78      M         Kenya    Private   0.728571   \n",
       "2     Philip        Leo  0.08      M        Uganda  Sognsvann   0.385714   \n",
       "3      Shoni  Hlongwane  0.02      F           Rsa  Sognsvann   0.171429   \n",
       "4      Maria   Kedibone  0.04      F  South Africa  Sognsvann   0.528571   \n",
       "\n",
       "  prevEducation  studyHOURS    Python        DB  Programming Average  isAdult  \\\n",
       "0       Masters    0.956522  0.578947  0.357143             0.414634        1   \n",
       "1       Diploma    0.782609  0.592105  0.642857             0.585366        1   \n",
       "2   High School    0.347826  0.776316  0.285714             0.495935        1   \n",
       "3   High School    0.130435  0.868421  0.200000             0.504065        0   \n",
       "4   High School    0.173913  1.000000  0.714286             0.878049        0   \n",
       "\n",
       "  studyHOURS_Cag  \n",
       "0           High  \n",
       "1         Medium  \n",
       "2         Medium  \n",
       "3            Low  \n",
       "4         Medium  "
      ]
     },
     "execution_count": 58,
     "metadata": {},
     "output_type": "execute_result"
    }
   ],
   "source": [
    "Scaler = MinMaxScaler()\n",
    "\n",
    "df_scaled = df.copy()\n",
    "df_scaled[Numerical_cols] = Scaler.fit_transform(df[Numerical_cols])\n",
    "\n",
    "df_scaled.head()"
   ]
  },
  {
   "cell_type": "markdown",
   "id": "f6345efd-a135-49a9-b8ba-59d47304fd06",
   "metadata": {},
   "source": [
    "Part 6 – **Encoding Categorical Data**"
   ]
  },
  {
   "cell_type": "markdown",
   "id": "a3ffaa29-f9fb-469f-a242-8f1978b3bc87",
   "metadata": {},
   "source": [
    "1 - Detect Categorical Columns"
   ]
  },
  {
   "cell_type": "code",
   "execution_count": 61,
   "id": "daa9234d-32c0-486d-8ff4-bb483ca420a7",
   "metadata": {},
   "outputs": [],
   "source": [
    "Categorical_cols = df_scaled.select_dtypes(include=[\"object\" , \"category\"]).columns.tolist()"
   ]
  },
  {
   "cell_type": "markdown",
   "id": "34c75577-24d5-4bdf-b600-48872c85fdc5",
   "metadata": {},
   "source": [
    "2 - Handle Encoding"
   ]
  },
  {
   "cell_type": "code",
   "execution_count": 63,
   "id": "5c191544-3d3d-41d0-8d6c-a6e9e3855f06",
   "metadata": {},
   "outputs": [],
   "source": [
    "# Handle gender column by One Hot Encoding\n",
    "df_scaled = pd.get_dummies(df_scaled , columns = ['gender'] , drop_first = True)"
   ]
  },
  {
   "cell_type": "code",
   "execution_count": 64,
   "id": "1eb8eca4-221f-4403-983c-2fff7293c728",
   "metadata": {},
   "outputs": [],
   "source": [
    "# Handle country , residence columns by Binary Encoding\n",
    "encoder = ce.BinaryEncoder(cols = ['country' , 'residence'])\n",
    "df_scaled = encoder.fit_transform(df_scaled)"
   ]
  },
  {
   "cell_type": "code",
   "execution_count": 65,
   "id": "c3119713-8d45-4ac9-929f-57a0e35c2e90",
   "metadata": {},
   "outputs": [],
   "source": [
    "# Handle prevEducation , studyHOURS_Cag columns by Label Encoding\n",
    "label = LabelEncoder()\n",
    "df_scaled['prevEducation'] = label.fit_transform(df_scaled['prevEducation'])\n",
    "df_scaled['studyHOURS_Cag'] = label.fit_transform(df_scaled['studyHOURS_Cag'])"
   ]
  },
  {
   "cell_type": "code",
   "execution_count": 66,
   "id": "66b9712b-2ab7-4863-897d-bd05638fc922",
   "metadata": {},
   "outputs": [
    {
     "data": {
      "text/html": [
       "<div>\n",
       "<style scoped>\n",
       "    .dataframe tbody tr th:only-of-type {\n",
       "        vertical-align: middle;\n",
       "    }\n",
       "\n",
       "    .dataframe tbody tr th {\n",
       "        vertical-align: top;\n",
       "    }\n",
       "\n",
       "    .dataframe thead th {\n",
       "        text-align: right;\n",
       "    }\n",
       "</style>\n",
       "<table border=\"1\" class=\"dataframe\">\n",
       "  <thead>\n",
       "    <tr style=\"text-align: right;\">\n",
       "      <th></th>\n",
       "      <th>fNAME</th>\n",
       "      <th>lNAME</th>\n",
       "      <th>Age</th>\n",
       "      <th>country_0</th>\n",
       "      <th>country_1</th>\n",
       "      <th>country_2</th>\n",
       "      <th>country_3</th>\n",
       "      <th>residence_0</th>\n",
       "      <th>residence_1</th>\n",
       "      <th>residence_2</th>\n",
       "      <th>entryEXAM</th>\n",
       "      <th>prevEducation</th>\n",
       "      <th>studyHOURS</th>\n",
       "      <th>Python</th>\n",
       "      <th>DB</th>\n",
       "      <th>Programming Average</th>\n",
       "      <th>isAdult</th>\n",
       "      <th>studyHOURS_Cag</th>\n",
       "      <th>gender_M</th>\n",
       "    </tr>\n",
       "  </thead>\n",
       "  <tbody>\n",
       "    <tr>\n",
       "      <th>0</th>\n",
       "      <td>Christina</td>\n",
       "      <td>Binger</td>\n",
       "      <td>0.46</td>\n",
       "      <td>0</td>\n",
       "      <td>0</td>\n",
       "      <td>0</td>\n",
       "      <td>1</td>\n",
       "      <td>0</td>\n",
       "      <td>0</td>\n",
       "      <td>1</td>\n",
       "      <td>0.628571</td>\n",
       "      <td>4</td>\n",
       "      <td>0.956522</td>\n",
       "      <td>0.578947</td>\n",
       "      <td>0.357143</td>\n",
       "      <td>0.414634</td>\n",
       "      <td>1</td>\n",
       "      <td>0</td>\n",
       "      <td>False</td>\n",
       "    </tr>\n",
       "    <tr>\n",
       "      <th>1</th>\n",
       "      <td>Alex</td>\n",
       "      <td>Walekhwa</td>\n",
       "      <td>0.78</td>\n",
       "      <td>0</td>\n",
       "      <td>0</td>\n",
       "      <td>1</td>\n",
       "      <td>0</td>\n",
       "      <td>0</td>\n",
       "      <td>0</td>\n",
       "      <td>1</td>\n",
       "      <td>0.728571</td>\n",
       "      <td>1</td>\n",
       "      <td>0.782609</td>\n",
       "      <td>0.592105</td>\n",
       "      <td>0.642857</td>\n",
       "      <td>0.585366</td>\n",
       "      <td>1</td>\n",
       "      <td>2</td>\n",
       "      <td>True</td>\n",
       "    </tr>\n",
       "    <tr>\n",
       "      <th>2</th>\n",
       "      <td>Philip</td>\n",
       "      <td>Leo</td>\n",
       "      <td>0.08</td>\n",
       "      <td>0</td>\n",
       "      <td>0</td>\n",
       "      <td>1</td>\n",
       "      <td>1</td>\n",
       "      <td>0</td>\n",
       "      <td>1</td>\n",
       "      <td>0</td>\n",
       "      <td>0.385714</td>\n",
       "      <td>3</td>\n",
       "      <td>0.347826</td>\n",
       "      <td>0.776316</td>\n",
       "      <td>0.285714</td>\n",
       "      <td>0.495935</td>\n",
       "      <td>1</td>\n",
       "      <td>2</td>\n",
       "      <td>True</td>\n",
       "    </tr>\n",
       "    <tr>\n",
       "      <th>3</th>\n",
       "      <td>Shoni</td>\n",
       "      <td>Hlongwane</td>\n",
       "      <td>0.02</td>\n",
       "      <td>0</td>\n",
       "      <td>1</td>\n",
       "      <td>0</td>\n",
       "      <td>0</td>\n",
       "      <td>0</td>\n",
       "      <td>1</td>\n",
       "      <td>0</td>\n",
       "      <td>0.171429</td>\n",
       "      <td>3</td>\n",
       "      <td>0.130435</td>\n",
       "      <td>0.868421</td>\n",
       "      <td>0.200000</td>\n",
       "      <td>0.504065</td>\n",
       "      <td>0</td>\n",
       "      <td>1</td>\n",
       "      <td>False</td>\n",
       "    </tr>\n",
       "    <tr>\n",
       "      <th>4</th>\n",
       "      <td>Maria</td>\n",
       "      <td>Kedibone</td>\n",
       "      <td>0.04</td>\n",
       "      <td>0</td>\n",
       "      <td>1</td>\n",
       "      <td>0</td>\n",
       "      <td>1</td>\n",
       "      <td>0</td>\n",
       "      <td>1</td>\n",
       "      <td>0</td>\n",
       "      <td>0.528571</td>\n",
       "      <td>3</td>\n",
       "      <td>0.173913</td>\n",
       "      <td>1.000000</td>\n",
       "      <td>0.714286</td>\n",
       "      <td>0.878049</td>\n",
       "      <td>0</td>\n",
       "      <td>2</td>\n",
       "      <td>False</td>\n",
       "    </tr>\n",
       "  </tbody>\n",
       "</table>\n",
       "</div>"
      ],
      "text/plain": [
       "       fNAME      lNAME   Age  country_0  country_1  country_2  country_3  \\\n",
       "0  Christina     Binger  0.46          0          0          0          1   \n",
       "1       Alex   Walekhwa  0.78          0          0          1          0   \n",
       "2     Philip        Leo  0.08          0          0          1          1   \n",
       "3      Shoni  Hlongwane  0.02          0          1          0          0   \n",
       "4      Maria   Kedibone  0.04          0          1          0          1   \n",
       "\n",
       "   residence_0  residence_1  residence_2  entryEXAM  prevEducation  \\\n",
       "0            0            0            1   0.628571              4   \n",
       "1            0            0            1   0.728571              1   \n",
       "2            0            1            0   0.385714              3   \n",
       "3            0            1            0   0.171429              3   \n",
       "4            0            1            0   0.528571              3   \n",
       "\n",
       "   studyHOURS    Python        DB  Programming Average  isAdult  \\\n",
       "0    0.956522  0.578947  0.357143             0.414634        1   \n",
       "1    0.782609  0.592105  0.642857             0.585366        1   \n",
       "2    0.347826  0.776316  0.285714             0.495935        1   \n",
       "3    0.130435  0.868421  0.200000             0.504065        0   \n",
       "4    0.173913  1.000000  0.714286             0.878049        0   \n",
       "\n",
       "   studyHOURS_Cag  gender_M  \n",
       "0               0     False  \n",
       "1               2      True  \n",
       "2               2      True  \n",
       "3               1     False  \n",
       "4               2     False  "
      ]
     },
     "execution_count": 66,
     "metadata": {},
     "output_type": "execute_result"
    }
   ],
   "source": [
    "df_scaled.head()"
   ]
  },
  {
   "cell_type": "markdown",
   "id": "3f993f50-cd52-47a9-970a-a953be1befbe",
   "metadata": {},
   "source": [
    "New Dataset"
   ]
  },
  {
   "cell_type": "markdown",
   "id": "0ca48a24-e24c-4733-8664-c778e3e8fc87",
   "metadata": {},
   "source": [
    "cleaned version of the dataset"
   ]
  },
  {
   "cell_type": "code",
   "execution_count": 69,
   "id": "43f63c48-89be-4cb5-a515-4e9d6a723c98",
   "metadata": {},
   "outputs": [],
   "source": [
    "# Save the cleaned dataset to a new CSV file\n",
    "df_scaled.to_csv(\"cleaned_students.csv\", index=False)   "
   ]
  }
 ],
 "metadata": {
  "kernelspec": {
   "display_name": "Python 3 (ipykernel)",
   "language": "python",
   "name": "python3"
  },
  "language_info": {
   "codemirror_mode": {
    "name": "ipython",
    "version": 3
   },
   "file_extension": ".py",
   "mimetype": "text/x-python",
   "name": "python",
   "nbconvert_exporter": "python",
   "pygments_lexer": "ipython3",
   "version": "3.11.7"
  }
 },
 "nbformat": 4,
 "nbformat_minor": 5
}
