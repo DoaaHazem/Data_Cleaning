{
 "cells": [
  {
   "cell_type": "markdown",
   "id": "1efb095f-3f74-49ec-802f-0c4c038cd19c",
   "metadata": {},
   "source": [
    "Part 1 – **Data Cleaning**"
   ]
  },
  {
   "cell_type": "code",
   "execution_count": 3,
   "id": "cf5e6848-355f-4c98-97e9-684dc5b640df",
   "metadata": {},
   "outputs": [],
   "source": [
    "import pandas as pd \n",
    "import seaborn as sns"
   ]
  },
  {
   "cell_type": "code",
   "execution_count": 4,
   "id": "d5b3d265-aaef-4ad5-be80-8d625eddf800",
   "metadata": {},
   "outputs": [
    {
     "data": {
      "text/html": [
       "<div>\n",
       "<style scoped>\n",
       "    .dataframe tbody tr th:only-of-type {\n",
       "        vertical-align: middle;\n",
       "    }\n",
       "\n",
       "    .dataframe tbody tr th {\n",
       "        vertical-align: top;\n",
       "    }\n",
       "\n",
       "    .dataframe thead th {\n",
       "        text-align: right;\n",
       "    }\n",
       "</style>\n",
       "<table border=\"1\" class=\"dataframe\">\n",
       "  <thead>\n",
       "    <tr style=\"text-align: right;\">\n",
       "      <th></th>\n",
       "      <th>fNAME</th>\n",
       "      <th>lNAME</th>\n",
       "      <th>Age</th>\n",
       "      <th>gender</th>\n",
       "      <th>country</th>\n",
       "      <th>residence</th>\n",
       "      <th>entryEXAM</th>\n",
       "      <th>prevEducation</th>\n",
       "      <th>studyHOURS</th>\n",
       "      <th>Python</th>\n",
       "      <th>DB</th>\n",
       "    </tr>\n",
       "  </thead>\n",
       "  <tbody>\n",
       "    <tr>\n",
       "      <th>0</th>\n",
       "      <td>Christina</td>\n",
       "      <td>Binger</td>\n",
       "      <td>44</td>\n",
       "      <td>Female</td>\n",
       "      <td>Norway</td>\n",
       "      <td>Private</td>\n",
       "      <td>72</td>\n",
       "      <td>Masters</td>\n",
       "      <td>158</td>\n",
       "      <td>59.0</td>\n",
       "      <td>55</td>\n",
       "    </tr>\n",
       "    <tr>\n",
       "      <th>1</th>\n",
       "      <td>Alex</td>\n",
       "      <td>Walekhwa</td>\n",
       "      <td>60</td>\n",
       "      <td>M</td>\n",
       "      <td>Kenya</td>\n",
       "      <td>Private</td>\n",
       "      <td>79</td>\n",
       "      <td>Diploma</td>\n",
       "      <td>150</td>\n",
       "      <td>60.0</td>\n",
       "      <td>75</td>\n",
       "    </tr>\n",
       "    <tr>\n",
       "      <th>2</th>\n",
       "      <td>Philip</td>\n",
       "      <td>Leo</td>\n",
       "      <td>25</td>\n",
       "      <td>Male</td>\n",
       "      <td>Uganda</td>\n",
       "      <td>Sognsvann</td>\n",
       "      <td>55</td>\n",
       "      <td>HighSchool</td>\n",
       "      <td>130</td>\n",
       "      <td>74.0</td>\n",
       "      <td>50</td>\n",
       "    </tr>\n",
       "    <tr>\n",
       "      <th>3</th>\n",
       "      <td>Shoni</td>\n",
       "      <td>Hlongwane</td>\n",
       "      <td>22</td>\n",
       "      <td>F</td>\n",
       "      <td>Rsa</td>\n",
       "      <td>Sognsvann</td>\n",
       "      <td>40</td>\n",
       "      <td>High School</td>\n",
       "      <td>120</td>\n",
       "      <td>NaN</td>\n",
       "      <td>44</td>\n",
       "    </tr>\n",
       "    <tr>\n",
       "      <th>4</th>\n",
       "      <td>Maria</td>\n",
       "      <td>Kedibone</td>\n",
       "      <td>23</td>\n",
       "      <td>Female</td>\n",
       "      <td>South Africa</td>\n",
       "      <td>Sognsvann</td>\n",
       "      <td>65</td>\n",
       "      <td>High School</td>\n",
       "      <td>122</td>\n",
       "      <td>91.0</td>\n",
       "      <td>80</td>\n",
       "    </tr>\n",
       "  </tbody>\n",
       "</table>\n",
       "</div>"
      ],
      "text/plain": [
       "       fNAME      lNAME  Age  gender       country  residence  entryEXAM  \\\n",
       "0  Christina     Binger   44  Female        Norway    Private         72   \n",
       "1       Alex   Walekhwa   60       M         Kenya    Private         79   \n",
       "2     Philip        Leo   25    Male        Uganda  Sognsvann         55   \n",
       "3      Shoni  Hlongwane   22       F           Rsa  Sognsvann         40   \n",
       "4      Maria   Kedibone   23  Female  South Africa  Sognsvann         65   \n",
       "\n",
       "  prevEducation  studyHOURS  Python  DB  \n",
       "0       Masters         158    59.0  55  \n",
       "1       Diploma         150    60.0  75  \n",
       "2    HighSchool         130    74.0  50  \n",
       "3   High School         120     NaN  44  \n",
       "4   High School         122    91.0  80  "
      ]
     },
     "execution_count": 4,
     "metadata": {},
     "output_type": "execute_result"
    }
   ],
   "source": [
    "df = pd.read_csv(r\"C:\\Users\\DELL\\Downloads\\bi.csv\", encoding = \"cp1256\")\n",
    "df.head()"
   ]
  },
  {
   "cell_type": "markdown",
   "id": "b9558b15-0d60-4faa-aa42-7611666c1acf",
   "metadata": {},
   "source": [
    "1 - Check dataset structure"
   ]
  },
  {
   "cell_type": "code",
   "execution_count": 8,
   "id": "1e31a301-2666-433d-895e-5e3ebd76d698",
   "metadata": {},
   "outputs": [
    {
     "data": {
      "text/plain": [
       "(77, 11)"
      ]
     },
     "execution_count": 8,
     "metadata": {},
     "output_type": "execute_result"
    }
   ],
   "source": [
    "df.shape"
   ]
  },
  {
   "cell_type": "code",
   "execution_count": 10,
   "id": "8dff4140-1db0-4596-bde2-7d2374b54fd4",
   "metadata": {},
   "outputs": [
    {
     "name": "stdout",
     "output_type": "stream",
     "text": [
      "<class 'pandas.core.frame.DataFrame'>\n",
      "RangeIndex: 77 entries, 0 to 76\n",
      "Data columns (total 11 columns):\n",
      " #   Column         Non-Null Count  Dtype  \n",
      "---  ------         --------------  -----  \n",
      " 0   fNAME          77 non-null     object \n",
      " 1   lNAME          77 non-null     object \n",
      " 2   Age            77 non-null     int64  \n",
      " 3   gender         77 non-null     object \n",
      " 4   country        77 non-null     object \n",
      " 5   residence      77 non-null     object \n",
      " 6   entryEXAM      77 non-null     int64  \n",
      " 7   prevEducation  77 non-null     object \n",
      " 8   studyHOURS     77 non-null     int64  \n",
      " 9   Python         75 non-null     float64\n",
      " 10  DB             77 non-null     int64  \n",
      "dtypes: float64(1), int64(4), object(6)\n",
      "memory usage: 6.7+ KB\n"
     ]
    }
   ],
   "source": [
    "df.info()"
   ]
  },
  {
   "cell_type": "markdown",
   "id": "2ad372cf-49a1-482e-ade1-5e93c886e3f5",
   "metadata": {},
   "source": [
    "Question: Which columns should be categorical and which should be numerical?"
   ]
  },
  {
   "cell_type": "markdown",
   "id": "824bc73c-a630-4803-8f2f-c1959a526074",
   "metadata": {},
   "source": [
    "categorical columns : 6  -  numerical columns : 5 \n",
    "\n",
    "Categorical: fNAME , lNAME , gender , country , residence , prevEducation\n",
    "\n",
    "Numerical: age , entryEXAM , studyHOURS , Python , DB"
   ]
  },
  {
   "cell_type": "markdown",
   "id": "a7741c82-d390-4f6e-94b7-2b58a634b385",
   "metadata": {},
   "source": [
    "2 - Detect inconsistent categories"
   ]
  },
  {
   "cell_type": "code",
   "execution_count": 15,
   "id": "bc14b204-2fbc-43e9-8834-cd60be9d0893",
   "metadata": {},
   "outputs": [
    {
     "data": {
      "text/plain": [
       "array(['Female', 'M', 'Male', 'F', 'female', 'male'], dtype=object)"
      ]
     },
     "execution_count": 15,
     "metadata": {},
     "output_type": "execute_result"
    }
   ],
   "source": [
    "df['gender'].unique()"
   ]
  },
  {
   "cell_type": "code",
   "execution_count": 17,
   "id": "d92a52ac-a538-47f1-8cbb-224224ba3f35",
   "metadata": {},
   "outputs": [
    {
     "data": {
      "text/plain": [
       "array(['Norway', 'Kenya', 'Uganda', 'Rsa', 'South Africa', 'Norge',\n",
       "       'norway', 'Denmark', 'Netherlands', 'Italy', 'Spain', 'UK',\n",
       "       'Somali', 'Nigeria', 'Germany', 'France'], dtype=object)"
      ]
     },
     "execution_count": 17,
     "metadata": {},
     "output_type": "execute_result"
    }
   ],
   "source": [
    "df['country'].unique()"
   ]
  },
  {
   "cell_type": "code",
   "execution_count": 19,
   "id": "d20ef57f-e561-425b-87de-6b7096b70013",
   "metadata": {},
   "outputs": [
    {
     "data": {
      "text/plain": [
       "array(['Masters', 'Diploma', 'HighSchool', 'High School', 'Bachelors',\n",
       "       'Barrrchelors', 'diploma', 'DIPLOMA', 'Diplomaaa', 'Doctorate'],\n",
       "      dtype=object)"
      ]
     },
     "execution_count": 19,
     "metadata": {},
     "output_type": "execute_result"
    }
   ],
   "source": [
    "df['prevEducation'].unique()"
   ]
  },
  {
   "cell_type": "code",
   "execution_count": 21,
   "id": "efb77123-194e-4a67-8af1-079535c6daa9",
   "metadata": {},
   "outputs": [
    {
     "data": {
      "text/plain": [
       "array(['F', 'M'], dtype=object)"
      ]
     },
     "execution_count": 21,
     "metadata": {},
     "output_type": "execute_result"
    }
   ],
   "source": [
    "df['gender'] = df['gender'].str.lower() \n",
    "df['gender'] = df['gender'].replace(['female','f'],'F')\n",
    "df['gender'] = df['gender'].replace(['male','m'],'M')\n",
    "df['gender'].unique()"
   ]
  },
  {
   "cell_type": "code",
   "execution_count": 23,
   "id": "e7a0e0ed-76d7-4fb2-baf9-f5f9b1effceb",
   "metadata": {},
   "outputs": [
    {
     "data": {
      "text/plain": [
       "array(['Norway', 'Kenya', 'Uganda', 'Rsa', 'South Africa', 'Norge',\n",
       "       'Denmark', 'Netherlands', 'Italy', 'Spain', 'UK', 'Somali',\n",
       "       'Nigeria', 'Germany', 'France'], dtype=object)"
      ]
     },
     "execution_count": 23,
     "metadata": {},
     "output_type": "execute_result"
    }
   ],
   "source": [
    "df['country'] = df['country'].replace('norway' , 'Norway')\n",
    "df['country'].unique()"
   ]
  },
  {
   "cell_type": "code",
   "execution_count": 25,
   "id": "4b29d99d-d865-4e8a-ab96-b545407f3dba",
   "metadata": {},
   "outputs": [
    {
     "data": {
      "text/plain": [
       "array(['Masters', 'Diploma', 'High School', 'Bachelors', 'Doctorate'],\n",
       "      dtype=object)"
      ]
     },
     "execution_count": 25,
     "metadata": {},
     "output_type": "execute_result"
    }
   ],
   "source": [
    "df['prevEducation'] = df['prevEducation'].replace(['diploma','DIPLOMA','Diplomaaa'] , 'Diploma')\n",
    "df['prevEducation'] = df['prevEducation'].replace('HighSchool' , 'High School')\n",
    "df['prevEducation'] = df['prevEducation'].replace('Barrrchelors' , 'Bachelors')\n",
    "df['prevEducation'].unique()"
   ]
  },
  {
   "cell_type": "markdown",
   "id": "1aa0b40d-ee98-4600-8139-f8bf31076537",
   "metadata": {},
   "source": [
    "3 - Handle duplicates"
   ]
  },
  {
   "cell_type": "code",
   "execution_count": 28,
   "id": "3bbd4c1b-1ccf-4f36-830b-d561c7ce1950",
   "metadata": {},
   "outputs": [
    {
     "data": {
      "text/plain": [
       "0"
      ]
     },
     "execution_count": 28,
     "metadata": {},
     "output_type": "execute_result"
    }
   ],
   "source": [
    "df.duplicated().sum()"
   ]
  },
  {
   "cell_type": "code",
   "execution_count": 30,
   "id": "0b9d4d1e-98d9-4537-b229-9c8eef55923a",
   "metadata": {},
   "outputs": [],
   "source": [
    "df.drop_duplicates(inplace = True)"
   ]
  },
  {
   "cell_type": "markdown",
   "id": "acfbbb1c-6b7e-400d-9a2e-2a3c4aaef695",
   "metadata": {},
   "source": [
    "What inconsistencies you found and how you fixed them ?\n",
    "\n",
    "1 - Gender column\n",
    "\n",
    "Issue: Values appeared in mixed formats like \"Male\", \"male\", \"M\", and \"Female\", \"female\", \"F\".\n",
    "\n",
    "Fix: Converted all values to lowercase using .str.lower(), then standardized using .replace() to keep only \"M\" and \"F\".\n",
    "\n",
    "2 - Country column\n",
    "\n",
    "Issue: Country names had inconsistent cases (e.g., \"norway\", \"Norway\").\n",
    "\n",
    "Fix: Standardized using .replace() to unify values, e.g., \"norway\" → \"Norway\".\n",
    "\n",
    "3 - prevEducation column\n",
    "\n",
    "Issue: ypos and inconsistent formats such as \"Barrrchelors\" vs \"Bachelor\", \"HighSchool\" vs \"High School\", and [\"diploma\", \"DIPLOMA\", \"Diplomaaa\"] vs \"Diploma\".\n",
    "\n",
    "Fix: Corrected misspelled entries manually using .replace().\n",
    "\n",
    "- Duplicates\n",
    "\n",
    "Issue: No rows were completely duplicated.\n",
    "\n",
    "Fix: Verified using df.duplicated().sum() and ensured dataset consistency by applying df.drop_duplicates()."
   ]
  },
  {
   "cell_type": "markdown",
   "id": "e5b5432a-ef06-4d84-9560-b3f6a687ee91",
   "metadata": {},
   "source": [
    "Part 2 – **Missing Data**"
   ]
  },
  {
   "cell_type": "markdown",
   "id": "33ff590c-7fe6-4ba9-b026-ba61a8c0a662",
   "metadata": {},
   "source": [
    "1 - Identify missing values"
   ]
  },
  {
   "cell_type": "code",
   "execution_count": 34,
   "id": "7597cc51-f23f-4ce9-8217-250f7277ad31",
   "metadata": {},
   "outputs": [
    {
     "data": {
      "text/plain": [
       "fNAME            0\n",
       "lNAME            0\n",
       "Age              0\n",
       "gender           0\n",
       "country          0\n",
       "residence        0\n",
       "entryEXAM        0\n",
       "prevEducation    0\n",
       "studyHOURS       0\n",
       "Python           2\n",
       "DB               0\n",
       "dtype: int64"
      ]
     },
     "execution_count": 34,
     "metadata": {},
     "output_type": "execute_result"
    }
   ],
   "source": [
    "df.isnull().sum()"
   ]
  },
  {
   "cell_type": "markdown",
   "id": "cd488834-2ee5-4282-9e11-dd29ec822db8",
   "metadata": {},
   "source": [
    "Question: Which columns are most affected by missing values?"
   ]
  },
  {
   "cell_type": "markdown",
   "id": "273e072d-b2a4-497e-8ac3-a6e5807dbd57",
   "metadata": {},
   "source": [
    "Python column have 2 missing values "
   ]
  },
  {
   "cell_type": "markdown",
   "id": "076e9b18-ae74-45bf-ad6d-5def5fbe418c",
   "metadata": {},
   "source": [
    "2 - Impute missing values"
   ]
  },
  {
   "cell_type": "markdown",
   "id": "885266fe-0591-4199-a0f2-42152b531e06",
   "metadata": {},
   "source": [
    "Option 1: Fill with Mean"
   ]
  },
  {
   "cell_type": "code",
   "execution_count": 40,
   "id": "879009d0-d961-418a-b598-0e87409995c3",
   "metadata": {},
   "outputs": [
    {
     "name": "stderr",
     "output_type": "stream",
     "text": [
      "C:\\Users\\DELL\\AppData\\Local\\Temp\\ipykernel_6452\\915564648.py:2: FutureWarning: A value is trying to be set on a copy of a DataFrame or Series through chained assignment using an inplace method.\n",
      "The behavior will change in pandas 3.0. This inplace method will never work because the intermediate object on which we are setting values always behaves as a copy.\n",
      "\n",
      "For example, when doing 'df[col].method(value, inplace=True)', try using 'df.method({col: value}, inplace=True)' or df[col] = df[col].method(value) instead, to perform the operation inplace on the original object.\n",
      "\n",
      "\n",
      "  df_mean[\"Python\"].fillna(df_mean[\"Python\"].mean(), inplace=True)\n"
     ]
    }
   ],
   "source": [
    "df_mean = df.copy()\n",
    "df_mean[\"Python\"].fillna(df_mean[\"Python\"].mean(), inplace=True)"
   ]
  },
  {
   "cell_type": "code",
   "execution_count": 42,
   "id": "2f24241e-c96c-496b-be4a-1ccd23198b96",
   "metadata": {},
   "outputs": [
    {
     "data": {
      "text/html": [
       "<div>\n",
       "<style scoped>\n",
       "    .dataframe tbody tr th:only-of-type {\n",
       "        vertical-align: middle;\n",
       "    }\n",
       "\n",
       "    .dataframe tbody tr th {\n",
       "        vertical-align: top;\n",
       "    }\n",
       "\n",
       "    .dataframe thead th {\n",
       "        text-align: right;\n",
       "    }\n",
       "</style>\n",
       "<table border=\"1\" class=\"dataframe\">\n",
       "  <thead>\n",
       "    <tr style=\"text-align: right;\">\n",
       "      <th></th>\n",
       "      <th>fNAME</th>\n",
       "      <th>lNAME</th>\n",
       "      <th>Age</th>\n",
       "      <th>gender</th>\n",
       "      <th>country</th>\n",
       "      <th>residence</th>\n",
       "      <th>entryEXAM</th>\n",
       "      <th>prevEducation</th>\n",
       "      <th>studyHOURS</th>\n",
       "      <th>Python</th>\n",
       "      <th>DB</th>\n",
       "    </tr>\n",
       "  </thead>\n",
       "  <tbody>\n",
       "    <tr>\n",
       "      <th>0</th>\n",
       "      <td>Christina</td>\n",
       "      <td>Binger</td>\n",
       "      <td>44</td>\n",
       "      <td>F</td>\n",
       "      <td>Norway</td>\n",
       "      <td>Private</td>\n",
       "      <td>72</td>\n",
       "      <td>Masters</td>\n",
       "      <td>158</td>\n",
       "      <td>59.000000</td>\n",
       "      <td>55</td>\n",
       "    </tr>\n",
       "    <tr>\n",
       "      <th>1</th>\n",
       "      <td>Alex</td>\n",
       "      <td>Walekhwa</td>\n",
       "      <td>60</td>\n",
       "      <td>M</td>\n",
       "      <td>Kenya</td>\n",
       "      <td>Private</td>\n",
       "      <td>79</td>\n",
       "      <td>Diploma</td>\n",
       "      <td>150</td>\n",
       "      <td>60.000000</td>\n",
       "      <td>75</td>\n",
       "    </tr>\n",
       "    <tr>\n",
       "      <th>2</th>\n",
       "      <td>Philip</td>\n",
       "      <td>Leo</td>\n",
       "      <td>25</td>\n",
       "      <td>M</td>\n",
       "      <td>Uganda</td>\n",
       "      <td>Sognsvann</td>\n",
       "      <td>55</td>\n",
       "      <td>High School</td>\n",
       "      <td>130</td>\n",
       "      <td>74.000000</td>\n",
       "      <td>50</td>\n",
       "    </tr>\n",
       "    <tr>\n",
       "      <th>3</th>\n",
       "      <td>Shoni</td>\n",
       "      <td>Hlongwane</td>\n",
       "      <td>22</td>\n",
       "      <td>F</td>\n",
       "      <td>Rsa</td>\n",
       "      <td>Sognsvann</td>\n",
       "      <td>40</td>\n",
       "      <td>High School</td>\n",
       "      <td>120</td>\n",
       "      <td>75.853333</td>\n",
       "      <td>44</td>\n",
       "    </tr>\n",
       "    <tr>\n",
       "      <th>4</th>\n",
       "      <td>Maria</td>\n",
       "      <td>Kedibone</td>\n",
       "      <td>23</td>\n",
       "      <td>F</td>\n",
       "      <td>South Africa</td>\n",
       "      <td>Sognsvann</td>\n",
       "      <td>65</td>\n",
       "      <td>High School</td>\n",
       "      <td>122</td>\n",
       "      <td>91.000000</td>\n",
       "      <td>80</td>\n",
       "    </tr>\n",
       "  </tbody>\n",
       "</table>\n",
       "</div>"
      ],
      "text/plain": [
       "       fNAME      lNAME  Age gender       country  residence  entryEXAM  \\\n",
       "0  Christina     Binger   44      F        Norway    Private         72   \n",
       "1       Alex   Walekhwa   60      M         Kenya    Private         79   \n",
       "2     Philip        Leo   25      M        Uganda  Sognsvann         55   \n",
       "3      Shoni  Hlongwane   22      F           Rsa  Sognsvann         40   \n",
       "4      Maria   Kedibone   23      F  South Africa  Sognsvann         65   \n",
       "\n",
       "  prevEducation  studyHOURS     Python  DB  \n",
       "0       Masters         158  59.000000  55  \n",
       "1       Diploma         150  60.000000  75  \n",
       "2   High School         130  74.000000  50  \n",
       "3   High School         120  75.853333  44  \n",
       "4   High School         122  91.000000  80  "
      ]
     },
     "execution_count": 42,
     "metadata": {},
     "output_type": "execute_result"
    }
   ],
   "source": [
    "df_mean.head()"
   ]
  },
  {
   "cell_type": "code",
   "execution_count": 44,
   "id": "9c0c0d99-c8b0-4bbc-9535-4cb7f3b31e2c",
   "metadata": {},
   "outputs": [
    {
     "name": "stderr",
     "output_type": "stream",
     "text": [
      "C:\\Users\\DELL\\AppData\\Local\\Temp\\ipykernel_6452\\2503032827.py:2: FutureWarning: A value is trying to be set on a copy of a DataFrame or Series through chained assignment using an inplace method.\n",
      "The behavior will change in pandas 3.0. This inplace method will never work because the intermediate object on which we are setting values always behaves as a copy.\n",
      "\n",
      "For example, when doing 'df[col].method(value, inplace=True)', try using 'df.method({col: value}, inplace=True)' or df[col] = df[col].method(value) instead, to perform the operation inplace on the original object.\n",
      "\n",
      "\n",
      "  df_median[\"Python\"].fillna(df_median[\"Python\"].median(), inplace=True)\n"
     ]
    }
   ],
   "source": [
    "df_median = df.copy()\n",
    "df_median[\"Python\"].fillna(df_median[\"Python\"].median(), inplace=True)"
   ]
  },
  {
   "cell_type": "code",
   "execution_count": 46,
   "id": "930dc76f-0f92-4aa4-a078-953559403a2d",
   "metadata": {},
   "outputs": [
    {
     "data": {
      "text/html": [
       "<div>\n",
       "<style scoped>\n",
       "    .dataframe tbody tr th:only-of-type {\n",
       "        vertical-align: middle;\n",
       "    }\n",
       "\n",
       "    .dataframe tbody tr th {\n",
       "        vertical-align: top;\n",
       "    }\n",
       "\n",
       "    .dataframe thead th {\n",
       "        text-align: right;\n",
       "    }\n",
       "</style>\n",
       "<table border=\"1\" class=\"dataframe\">\n",
       "  <thead>\n",
       "    <tr style=\"text-align: right;\">\n",
       "      <th></th>\n",
       "      <th>fNAME</th>\n",
       "      <th>lNAME</th>\n",
       "      <th>Age</th>\n",
       "      <th>gender</th>\n",
       "      <th>country</th>\n",
       "      <th>residence</th>\n",
       "      <th>entryEXAM</th>\n",
       "      <th>prevEducation</th>\n",
       "      <th>studyHOURS</th>\n",
       "      <th>Python</th>\n",
       "      <th>DB</th>\n",
       "    </tr>\n",
       "  </thead>\n",
       "  <tbody>\n",
       "    <tr>\n",
       "      <th>0</th>\n",
       "      <td>Christina</td>\n",
       "      <td>Binger</td>\n",
       "      <td>44</td>\n",
       "      <td>F</td>\n",
       "      <td>Norway</td>\n",
       "      <td>Private</td>\n",
       "      <td>72</td>\n",
       "      <td>Masters</td>\n",
       "      <td>158</td>\n",
       "      <td>59.0</td>\n",
       "      <td>55</td>\n",
       "    </tr>\n",
       "    <tr>\n",
       "      <th>1</th>\n",
       "      <td>Alex</td>\n",
       "      <td>Walekhwa</td>\n",
       "      <td>60</td>\n",
       "      <td>M</td>\n",
       "      <td>Kenya</td>\n",
       "      <td>Private</td>\n",
       "      <td>79</td>\n",
       "      <td>Diploma</td>\n",
       "      <td>150</td>\n",
       "      <td>60.0</td>\n",
       "      <td>75</td>\n",
       "    </tr>\n",
       "    <tr>\n",
       "      <th>2</th>\n",
       "      <td>Philip</td>\n",
       "      <td>Leo</td>\n",
       "      <td>25</td>\n",
       "      <td>M</td>\n",
       "      <td>Uganda</td>\n",
       "      <td>Sognsvann</td>\n",
       "      <td>55</td>\n",
       "      <td>High School</td>\n",
       "      <td>130</td>\n",
       "      <td>74.0</td>\n",
       "      <td>50</td>\n",
       "    </tr>\n",
       "    <tr>\n",
       "      <th>3</th>\n",
       "      <td>Shoni</td>\n",
       "      <td>Hlongwane</td>\n",
       "      <td>22</td>\n",
       "      <td>F</td>\n",
       "      <td>Rsa</td>\n",
       "      <td>Sognsvann</td>\n",
       "      <td>40</td>\n",
       "      <td>High School</td>\n",
       "      <td>120</td>\n",
       "      <td>81.0</td>\n",
       "      <td>44</td>\n",
       "    </tr>\n",
       "    <tr>\n",
       "      <th>4</th>\n",
       "      <td>Maria</td>\n",
       "      <td>Kedibone</td>\n",
       "      <td>23</td>\n",
       "      <td>F</td>\n",
       "      <td>South Africa</td>\n",
       "      <td>Sognsvann</td>\n",
       "      <td>65</td>\n",
       "      <td>High School</td>\n",
       "      <td>122</td>\n",
       "      <td>91.0</td>\n",
       "      <td>80</td>\n",
       "    </tr>\n",
       "  </tbody>\n",
       "</table>\n",
       "</div>"
      ],
      "text/plain": [
       "       fNAME      lNAME  Age gender       country  residence  entryEXAM  \\\n",
       "0  Christina     Binger   44      F        Norway    Private         72   \n",
       "1       Alex   Walekhwa   60      M         Kenya    Private         79   \n",
       "2     Philip        Leo   25      M        Uganda  Sognsvann         55   \n",
       "3      Shoni  Hlongwane   22      F           Rsa  Sognsvann         40   \n",
       "4      Maria   Kedibone   23      F  South Africa  Sognsvann         65   \n",
       "\n",
       "  prevEducation  studyHOURS  Python  DB  \n",
       "0       Masters         158    59.0  55  \n",
       "1       Diploma         150    60.0  75  \n",
       "2   High School         130    74.0  50  \n",
       "3   High School         120    81.0  44  \n",
       "4   High School         122    91.0  80  "
      ]
     },
     "execution_count": 46,
     "metadata": {},
     "output_type": "execute_result"
    }
   ],
   "source": [
    "df_median.head()"
   ]
  },
  {
   "cell_type": "markdown",
   "id": "dca138ac-e2ac-4009-a954-5c1ec3620101",
   "metadata": {},
   "source": [
    "**Mean** : sensitive to outliers , So this is the best solution.\n",
    "\n",
    "**Median** : Not sensitive to outliers."
   ]
  },
  {
   "cell_type": "code",
   "execution_count": 49,
   "id": "651525f4-cf72-48c8-a0f3-c94bfdb613b9",
   "metadata": {},
   "outputs": [
    {
     "name": "stderr",
     "output_type": "stream",
     "text": [
      "C:\\Users\\DELL\\AppData\\Local\\Temp\\ipykernel_6452\\3976076892.py:1: FutureWarning: A value is trying to be set on a copy of a DataFrame or Series through chained assignment using an inplace method.\n",
      "The behavior will change in pandas 3.0. This inplace method will never work because the intermediate object on which we are setting values always behaves as a copy.\n",
      "\n",
      "For example, when doing 'df[col].method(value, inplace=True)', try using 'df.method({col: value}, inplace=True)' or df[col] = df[col].method(value) instead, to perform the operation inplace on the original object.\n",
      "\n",
      "\n",
      "  df[\"Python\"].fillna(df[\"Python\"].median(), inplace=True)\n"
     ]
    },
    {
     "data": {
      "text/html": [
       "<div>\n",
       "<style scoped>\n",
       "    .dataframe tbody tr th:only-of-type {\n",
       "        vertical-align: middle;\n",
       "    }\n",
       "\n",
       "    .dataframe tbody tr th {\n",
       "        vertical-align: top;\n",
       "    }\n",
       "\n",
       "    .dataframe thead th {\n",
       "        text-align: right;\n",
       "    }\n",
       "</style>\n",
       "<table border=\"1\" class=\"dataframe\">\n",
       "  <thead>\n",
       "    <tr style=\"text-align: right;\">\n",
       "      <th></th>\n",
       "      <th>fNAME</th>\n",
       "      <th>lNAME</th>\n",
       "      <th>Age</th>\n",
       "      <th>gender</th>\n",
       "      <th>country</th>\n",
       "      <th>residence</th>\n",
       "      <th>entryEXAM</th>\n",
       "      <th>prevEducation</th>\n",
       "      <th>studyHOURS</th>\n",
       "      <th>Python</th>\n",
       "      <th>DB</th>\n",
       "    </tr>\n",
       "  </thead>\n",
       "  <tbody>\n",
       "    <tr>\n",
       "      <th>0</th>\n",
       "      <td>Christina</td>\n",
       "      <td>Binger</td>\n",
       "      <td>44</td>\n",
       "      <td>F</td>\n",
       "      <td>Norway</td>\n",
       "      <td>Private</td>\n",
       "      <td>72</td>\n",
       "      <td>Masters</td>\n",
       "      <td>158</td>\n",
       "      <td>59.0</td>\n",
       "      <td>55</td>\n",
       "    </tr>\n",
       "    <tr>\n",
       "      <th>1</th>\n",
       "      <td>Alex</td>\n",
       "      <td>Walekhwa</td>\n",
       "      <td>60</td>\n",
       "      <td>M</td>\n",
       "      <td>Kenya</td>\n",
       "      <td>Private</td>\n",
       "      <td>79</td>\n",
       "      <td>Diploma</td>\n",
       "      <td>150</td>\n",
       "      <td>60.0</td>\n",
       "      <td>75</td>\n",
       "    </tr>\n",
       "    <tr>\n",
       "      <th>2</th>\n",
       "      <td>Philip</td>\n",
       "      <td>Leo</td>\n",
       "      <td>25</td>\n",
       "      <td>M</td>\n",
       "      <td>Uganda</td>\n",
       "      <td>Sognsvann</td>\n",
       "      <td>55</td>\n",
       "      <td>High School</td>\n",
       "      <td>130</td>\n",
       "      <td>74.0</td>\n",
       "      <td>50</td>\n",
       "    </tr>\n",
       "    <tr>\n",
       "      <th>3</th>\n",
       "      <td>Shoni</td>\n",
       "      <td>Hlongwane</td>\n",
       "      <td>22</td>\n",
       "      <td>F</td>\n",
       "      <td>Rsa</td>\n",
       "      <td>Sognsvann</td>\n",
       "      <td>40</td>\n",
       "      <td>High School</td>\n",
       "      <td>120</td>\n",
       "      <td>81.0</td>\n",
       "      <td>44</td>\n",
       "    </tr>\n",
       "    <tr>\n",
       "      <th>4</th>\n",
       "      <td>Maria</td>\n",
       "      <td>Kedibone</td>\n",
       "      <td>23</td>\n",
       "      <td>F</td>\n",
       "      <td>South Africa</td>\n",
       "      <td>Sognsvann</td>\n",
       "      <td>65</td>\n",
       "      <td>High School</td>\n",
       "      <td>122</td>\n",
       "      <td>91.0</td>\n",
       "      <td>80</td>\n",
       "    </tr>\n",
       "  </tbody>\n",
       "</table>\n",
       "</div>"
      ],
      "text/plain": [
       "       fNAME      lNAME  Age gender       country  residence  entryEXAM  \\\n",
       "0  Christina     Binger   44      F        Norway    Private         72   \n",
       "1       Alex   Walekhwa   60      M         Kenya    Private         79   \n",
       "2     Philip        Leo   25      M        Uganda  Sognsvann         55   \n",
       "3      Shoni  Hlongwane   22      F           Rsa  Sognsvann         40   \n",
       "4      Maria   Kedibone   23      F  South Africa  Sognsvann         65   \n",
       "\n",
       "  prevEducation  studyHOURS  Python  DB  \n",
       "0       Masters         158    59.0  55  \n",
       "1       Diploma         150    60.0  75  \n",
       "2   High School         130    74.0  50  \n",
       "3   High School         120    81.0  44  \n",
       "4   High School         122    91.0  80  "
      ]
     },
     "execution_count": 49,
     "metadata": {},
     "output_type": "execute_result"
    }
   ],
   "source": [
    "df[\"Python\"].fillna(df[\"Python\"].median(), inplace=True)\n",
    "df.head()"
   ]
  },
  {
   "cell_type": "markdown",
   "id": "17e6f340-a8b8-440b-99ed-89d55a030c8f",
   "metadata": {},
   "source": [
    "How missing values were imputed and why ?\n",
    "\n",
    "- Numerical Column: Python (2 missing values)\n",
    "\n",
    "- Median Imputation: Missing values in the Python column were filled with the median.\n",
    "\n",
    "Reason: The median is more robust in the presence of outliers because it is not affected by extreme values. \n",
    "\n",
    "- Mean Imputation (for comparison): Alternatively, the mean was also tested.\n",
    "\n",
    "Reason: The mean preserves the overall trend of the data, but it can be heavily influenced by outliers, which may lead to biased results.\n"
   ]
  },
  {
   "cell_type": "markdown",
   "id": "8e5203b1-1299-437e-a94c-78d93b8ed629",
   "metadata": {},
   "source": [
    "Part 3 – **Outliers**"
   ]
  },
  {
   "cell_type": "markdown",
   "id": "565cea47-afc5-4857-88c9-1366acfabc16",
   "metadata": {},
   "source": [
    "1 - Detect outliers"
   ]
  },
  {
   "cell_type": "code",
   "execution_count": 53,
   "id": "1cedc2fc-e1b3-4f01-b44d-c1cf7369ca5c",
   "metadata": {},
   "outputs": [
    {
     "data": {
      "text/plain": [
       "<Axes: >"
      ]
     },
     "execution_count": 53,
     "metadata": {},
     "output_type": "execute_result"
    },
    {
     "data": {
      "image/png": "[encoded data removed]",
      "text/plain": [
       "<Figure size 640x480 with 1 Axes>"
      ]
     },
     "metadata": {},
     "output_type": "display_data"
    }
   ],
   "source": [
    "sns.boxplot(df[\"Python\"])"
   ]
  },
  {
   "cell_type": "code",
   "execution_count": 55,
   "id": "760d41b9-f971-4e90-ab1d-5712638d448a",
   "metadata": {},
   "outputs": [
    {
     "data": {
      "text/plain": [
       "<Axes: >"
      ]
     },
     "execution_count": 55,
     "metadata": {},
     "output_type": "execute_result"
    },
    {
     "data": {
      "image/png": "[encoded data removed]",
      "text/plain": [
       "<Figure size 640x480 with 1 Axes>"
      ]
     },
     "metadata": {},
     "output_type": "display_data"
    }
   ],
   "source": [
    "sns.boxplot(df['studyHOURS'])"
   ]
  },
  {
   "cell_type": "code",
   "execution_count": 57,
   "id": "e2830000-df7f-4072-96ba-8e82c7938518",
   "metadata": {},
   "outputs": [
    {
     "data": {
      "text/plain": [
       "<Axes: >"
      ]
     },
     "execution_count": 57,
     "metadata": {},
     "output_type": "execute_result"
    },
    {
     "data": {
      "image/png": "[encoded data removed]",
      "text/plain": [
       "<Figure size 640x480 with 1 Axes>"
      ]
     },
     "metadata": {},
     "output_type": "display_data"
    }
   ],
   "source": [
    "sns.boxplot(df['DB']) "
   ]
  },
  {
   "cell_type": "markdown",
   "id": "ef7f5228-b371-402c-9f41-735df37ad80b",
   "metadata": {},
   "source": [
    "Question: Which values in studyHOURS, Python, or DB look unrealistic?"
   ]
  },
  {
   "cell_type": "markdown",
   "id": "00777f45-9787-4b21-b93d-8a2a53d5851e",
   "metadata": {},
   "source": [
    "Python \n",
    "\n",
    "**Yes** , they are wrong if we compare them to the other numbers in the dataset, because they look unrealistic or inconsistent.\n",
    "\n",
    "**No** , they are not wrong if we consider that they might be real values — for example, someone could actually be weak in Python or score unusually low."
   ]
  },
  {
   "cell_type": "markdown",
   "id": "fa3844dc-b5d3-4d88-b751-b2b3cfc08c5d",
   "metadata": {},
   "source": [
    "2 - Handle outliers"
   ]
  },
  {
   "cell_type": "markdown",
   "id": "c24609f2-886c-46e5-9c06-1963b76d4bcf",
   "metadata": {},
   "source": [
    "Apply IQR method"
   ]
  },
  {
   "cell_type": "code",
   "execution_count": 63,
   "id": "f4265f92-f37d-432e-9c79-15aaec64f193",
   "metadata": {},
   "outputs": [
    {
     "data": {
      "text/html": [
       "<div>\n",
       "<style scoped>\n",
       "    .dataframe tbody tr th:only-of-type {\n",
       "        vertical-align: middle;\n",
       "    }\n",
       "\n",
       "    .dataframe tbody tr th {\n",
       "        vertical-align: top;\n",
       "    }\n",
       "\n",
       "    .dataframe thead th {\n",
       "        text-align: right;\n",
       "    }\n",
       "</style>\n",
       "<table border=\"1\" class=\"dataframe\">\n",
       "  <thead>\n",
       "    <tr style=\"text-align: right;\">\n",
       "      <th></th>\n",
       "      <th>fNAME</th>\n",
       "      <th>lNAME</th>\n",
       "      <th>Age</th>\n",
       "      <th>gender</th>\n",
       "      <th>country</th>\n",
       "      <th>residence</th>\n",
       "      <th>entryEXAM</th>\n",
       "      <th>prevEducation</th>\n",
       "      <th>studyHOURS</th>\n",
       "      <th>Python</th>\n",
       "      <th>DB</th>\n",
       "    </tr>\n",
       "  </thead>\n",
       "  <tbody>\n",
       "    <tr>\n",
       "      <th>0</th>\n",
       "      <td>Christina</td>\n",
       "      <td>Binger</td>\n",
       "      <td>44</td>\n",
       "      <td>F</td>\n",
       "      <td>Norway</td>\n",
       "      <td>Private</td>\n",
       "      <td>72</td>\n",
       "      <td>Masters</td>\n",
       "      <td>158</td>\n",
       "      <td>59.0</td>\n",
       "      <td>55</td>\n",
       "    </tr>\n",
       "    <tr>\n",
       "      <th>1</th>\n",
       "      <td>Alex</td>\n",
       "      <td>Walekhwa</td>\n",
       "      <td>60</td>\n",
       "      <td>M</td>\n",
       "      <td>Kenya</td>\n",
       "      <td>Private</td>\n",
       "      <td>79</td>\n",
       "      <td>Diploma</td>\n",
       "      <td>150</td>\n",
       "      <td>60.0</td>\n",
       "      <td>75</td>\n",
       "    </tr>\n",
       "    <tr>\n",
       "      <th>2</th>\n",
       "      <td>Philip</td>\n",
       "      <td>Leo</td>\n",
       "      <td>25</td>\n",
       "      <td>M</td>\n",
       "      <td>Uganda</td>\n",
       "      <td>Sognsvann</td>\n",
       "      <td>55</td>\n",
       "      <td>High School</td>\n",
       "      <td>130</td>\n",
       "      <td>74.0</td>\n",
       "      <td>50</td>\n",
       "    </tr>\n",
       "    <tr>\n",
       "      <th>3</th>\n",
       "      <td>Shoni</td>\n",
       "      <td>Hlongwane</td>\n",
       "      <td>22</td>\n",
       "      <td>F</td>\n",
       "      <td>Rsa</td>\n",
       "      <td>Sognsvann</td>\n",
       "      <td>40</td>\n",
       "      <td>High School</td>\n",
       "      <td>120</td>\n",
       "      <td>81.0</td>\n",
       "      <td>44</td>\n",
       "    </tr>\n",
       "    <tr>\n",
       "      <th>4</th>\n",
       "      <td>Maria</td>\n",
       "      <td>Kedibone</td>\n",
       "      <td>23</td>\n",
       "      <td>F</td>\n",
       "      <td>South Africa</td>\n",
       "      <td>Sognsvann</td>\n",
       "      <td>65</td>\n",
       "      <td>High School</td>\n",
       "      <td>122</td>\n",
       "      <td>91.0</td>\n",
       "      <td>80</td>\n",
       "    </tr>\n",
       "  </tbody>\n",
       "</table>\n",
       "</div>"
      ],
      "text/plain": [
       "       fNAME      lNAME  Age gender       country  residence  entryEXAM  \\\n",
       "0  Christina     Binger   44      F        Norway    Private         72   \n",
       "1       Alex   Walekhwa   60      M         Kenya    Private         79   \n",
       "2     Philip        Leo   25      M        Uganda  Sognsvann         55   \n",
       "3      Shoni  Hlongwane   22      F           Rsa  Sognsvann         40   \n",
       "4      Maria   Kedibone   23      F  South Africa  Sognsvann         65   \n",
       "\n",
       "  prevEducation  studyHOURS  Python  DB  \n",
       "0       Masters         158    59.0  55  \n",
       "1       Diploma         150    60.0  75  \n",
       "2   High School         130    74.0  50  \n",
       "3   High School         120    81.0  44  \n",
       "4   High School         122    91.0  80  "
      ]
     },
     "execution_count": 63,
     "metadata": {},
     "output_type": "execute_result"
    }
   ],
   "source": [
    "Q1 = df[\"Python\"].quantile(0.25)\n",
    "Q3 = df[\"Python\"].quantile(0.75)\n",
    "IQR = Q3 - Q1\n",
    "\n",
    "lower_bound = Q1 - 1.5 * IQR\n",
    "upper_bound = Q3 + 1.5 * IQR\n",
    "\n",
    "df = df[(df[\"Python\"] >= lower_bound) & (df[\"Python\"] <= upper_bound)]\n",
    "\n",
    "df.head()"
   ]
  },
  {
   "cell_type": "markdown",
   "id": "aa99a874-c0ae-4c4e-9424-8c4cc2b12a3c",
   "metadata": {},
   "source": [
    "How outliers were detected and treated ?\n",
    "\n",
    "- Detection methods used :\n",
    "\n",
    "Outliers were detected using Boxplots (sns.boxplot) for the columns Python, DB, and studyHOURS.\n",
    "\n",
    "Additionally, the IQR method was applied to calculate lower and upper bounds for potential outliers.\n",
    "\n",
    "-- Python Column : \n",
    "\n",
    "- Detection:\n",
    "\n",
    "The boxplot showed several unusually low values: 15, 30, 31, 33, 45, and 48.\n",
    "\n",
    "- Interpretation:\n",
    "\n",
    "Statistically, these were identified as outliers since they fell below the IQR lower bound.\n",
    "\n",
    "From a real-world perspective, while they might represent very weak performance, they were considered too extreme compared to the rest of the dataset.\n",
    "\n",
    "- Treatment:\n",
    "\n",
    "These outlier rows were removed from the dataset to improve data quality and avoid skewing model training.\n",
    "\n",
    "-- studyHOURS Column :\n",
    "\n",
    "- Detection:\n",
    "\n",
    "The boxplot showed some low values in study hours.\n",
    "\n",
    "- Interpretation:\n",
    "\n",
    "These were not considered unrealistic, since some students may indeed study very little.\n",
    "\n",
    "- Treatment:\n",
    "\n",
    "No rows were removed. The values were kept in the dataset.    "
   ]
  },
  {
   "cell_type": "markdown",
   "id": "5887cccc-0327-4bae-958c-ac7b8b9b6b24",
   "metadata": {},
   "source": [
    "New Dataset"
   ]
  },
  {
   "cell_type": "markdown",
   "id": "5bdb7f68-0a7c-4e44-b7e2-10ec8211d481",
   "metadata": {},
   "source": [
    "cleaned version of the dataset"
   ]
  },
  {
   "cell_type": "code",
   "execution_count": 67,
   "id": "3b0c2bbb-416d-4c1d-98fc-e69774990334",
   "metadata": {},
   "outputs": [],
   "source": [
    "# Save the cleaned dataset to a new CSV file\n",
    "df.to_csv(\"cleaned_students.csv\", index=False)   "
   ]
  },
  {
   "cell_type": "code",
   "execution_count": null,
   "id": "11cf9d8a-e4ad-442a-be70-51a7e57457d0",
   "metadata": {},
   "outputs": [],
   "source": []
  }
 ],
 "metadata": {
  "kernelspec": {
   "display_name": "Python 3 (ipykernel)",
   "language": "python",
   "name": "python3"
  },
  "language_info": {
   "codemirror_mode": {
    "name": "ipython",
    "version": 3
   },
   "file_extension": ".py",
   "mimetype": "text/x-python",
   "name": "python",
   "nbconvert_exporter": "python",
   "pygments_lexer": "ipython3",
   "version": "3.11.7"
  }
 },
 "nbformat": 4,
 "nbformat_minor": 5
}
